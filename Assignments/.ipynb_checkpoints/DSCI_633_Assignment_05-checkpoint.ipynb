{
 "cells": [
  {
   "cell_type": "markdown",
   "metadata": {},
   "source": [
    "#### Name: Pranav Nair\n",
    "#### Course: DSCI_633\n",
    "#### Assignment 05"
   ]
  },
  {
   "cell_type": "markdown",
   "metadata": {},
   "source": [
    "## Step 0: Import NN libraries"
   ]
  },
  {
   "cell_type": "code",
   "execution_count": 13,
   "metadata": {},
   "outputs": [],
   "source": [
    "import pandas as pd\n",
    "import numpy as np\n",
    "import matplotlib.pyplot as plt\n",
    "from sklearn.datasets import fetch_openml\n",
    "from sklearn.model_selection import train_test_split\n",
    "from sklearn.metrics import accuracy_score, classification_report\n",
    "import tensorflow\n",
    "from tensorflow import keras"
   ]
  },
  {
   "cell_type": "markdown",
   "metadata": {},
   "source": [
    "## Step 1: Load the data"
   ]
  },
  {
   "cell_type": "code",
   "execution_count": 14,
   "metadata": {
    "scrolled": false
   },
   "outputs": [
    {
     "name": "stdout",
     "output_type": "stream",
     "text": [
      "X_train_full is a numpy array containing  60000  matrices  where each matrix is a two-dimensional vector having 28 rows and  28 columns\n"
     ]
    },
    {
     "data": {
      "text/plain": [
       "array([[[0, 0, 0, ..., 0, 0, 0],\n",
       "        [0, 0, 0, ..., 0, 0, 0],\n",
       "        [0, 0, 0, ..., 0, 0, 0],\n",
       "        ...,\n",
       "        [0, 0, 0, ..., 0, 0, 0],\n",
       "        [0, 0, 0, ..., 0, 0, 0],\n",
       "        [0, 0, 0, ..., 0, 0, 0]],\n",
       "\n",
       "       [[0, 0, 0, ..., 0, 0, 0],\n",
       "        [0, 0, 0, ..., 0, 0, 0],\n",
       "        [0, 0, 0, ..., 0, 0, 0],\n",
       "        ...,\n",
       "        [0, 0, 0, ..., 0, 0, 0],\n",
       "        [0, 0, 0, ..., 0, 0, 0],\n",
       "        [0, 0, 0, ..., 0, 0, 0]],\n",
       "\n",
       "       [[0, 0, 0, ..., 0, 0, 0],\n",
       "        [0, 0, 0, ..., 0, 0, 0],\n",
       "        [0, 0, 0, ..., 0, 0, 0],\n",
       "        ...,\n",
       "        [0, 0, 0, ..., 0, 0, 0],\n",
       "        [0, 0, 0, ..., 0, 0, 0],\n",
       "        [0, 0, 0, ..., 0, 0, 0]],\n",
       "\n",
       "       ...,\n",
       "\n",
       "       [[0, 0, 0, ..., 0, 0, 0],\n",
       "        [0, 0, 0, ..., 0, 0, 0],\n",
       "        [0, 0, 0, ..., 0, 0, 0],\n",
       "        ...,\n",
       "        [0, 0, 0, ..., 0, 0, 0],\n",
       "        [0, 0, 0, ..., 0, 0, 0],\n",
       "        [0, 0, 0, ..., 0, 0, 0]],\n",
       "\n",
       "       [[0, 0, 0, ..., 0, 0, 0],\n",
       "        [0, 0, 0, ..., 0, 0, 0],\n",
       "        [0, 0, 0, ..., 0, 0, 0],\n",
       "        ...,\n",
       "        [0, 0, 0, ..., 0, 0, 0],\n",
       "        [0, 0, 0, ..., 0, 0, 0],\n",
       "        [0, 0, 0, ..., 0, 0, 0]],\n",
       "\n",
       "       [[0, 0, 0, ..., 0, 0, 0],\n",
       "        [0, 0, 0, ..., 0, 0, 0],\n",
       "        [0, 0, 0, ..., 0, 0, 0],\n",
       "        ...,\n",
       "        [0, 0, 0, ..., 0, 0, 0],\n",
       "        [0, 0, 0, ..., 0, 0, 0],\n",
       "        [0, 0, 0, ..., 0, 0, 0]]], dtype=uint8)"
      ]
     },
     "execution_count": 14,
     "metadata": {},
     "output_type": "execute_result"
    }
   ],
   "source": [
    "# Loading the training set and the test set from keras\n",
    "(X_train_full, y_train_full), (X_test, y_test) = keras.datasets.mnist.load_data()\n",
    "\n",
    "# Interpreting X_train_full\n",
    "print(\"X_train_full is a numpy array containing \",X_train_full.shape[0], \" matrices\", \" where each matrix is a two-dimensional vector having\", X_train_full.shape[2], \"rows and \", X_train_full.shape[1], \"columns\")\n",
    "X_train_full"
   ]
  },
  {
   "cell_type": "markdown",
   "metadata": {},
   "source": [
    "Let us inspect a random matrix from `X_train_full`"
   ]
  },
  {
   "cell_type": "code",
   "execution_count": 15,
   "metadata": {
    "scrolled": true
   },
   "outputs": [
    {
     "data": {
      "text/plain": [
       "array([[  0,   0,   0,   0,   0,   0,   0,   0,   0,   0,   0,   0,   0,\n",
       "          0,   0,   0,   0,   0,   0,   0,   0,   0,   0,   0,   0,   0,\n",
       "          0,   0],\n",
       "       [  0,   0,   0,   0,   0,   0,   0,   0,   0,   0,   0,   0,   0,\n",
       "          0,   0,   0,   0,   0,   0,   0,   0,   0,   0,   0,   0,   0,\n",
       "          0,   0],\n",
       "       [  0,   0,   0,   0,   0,   0,   0,   0,   0,   0,   0,   0,   0,\n",
       "          0,   0,   0,   0,   0,   0,   0,   0,   0,   0,   0,   0,   0,\n",
       "          0,   0],\n",
       "       [  0,   0,   0,   0,   0,   0,   0,   0,   0,   0,   0,   0,   0,\n",
       "          0,   0,   0,   0,   0,   0,   0,   0,   0,   0,   0,   0,   0,\n",
       "          0,   0],\n",
       "       [  0,   0,   0,   0,   0,   0,   0,   0,   0,   0,   0,  29, 197,\n",
       "        255,  84,   0,   0,   0,   0,   0,   0,   0,   0,   0,   0,   0,\n",
       "          0,   0],\n",
       "       [  0,   0,   0,   0,   0,   0,   0,   0,   0,   0,   0,  85, 251,\n",
       "        253,  83,   0,   0,   0,   0,   0,   0,   0,   0,   0,   0,   0,\n",
       "          0,   0],\n",
       "       [  0,   0,   0,   0,   0,   0,   0,   0,   0,   0,   0,  86, 253,\n",
       "        254, 253,   0,   0,   0,   0,   0,   0,   0,   0,   0,   0,   0,\n",
       "          0,   0],\n",
       "       [  0,   0,   0,   0,   0,   0,   0,   0,   0,   0,   0,  85, 251,\n",
       "        253, 251,   0,   0,   0,   0,   0,   0,   0,   0,   0,   0,   0,\n",
       "          0,   0],\n",
       "       [  0,   0,   0,   0,   0,   0,   0,   0,   0,   0,   0,  86, 253,\n",
       "        254, 253, 169,   0,   0,   0,   0,   0,   0,   0,   0,   0,   0,\n",
       "          0,   0],\n",
       "       [  0,   0,   0,   0,   0,   0,   0,   0,   0,   0,   0,  85, 251,\n",
       "        253, 251, 168,   0,   0,   0,   0,   0,   0,   0,   0,   0,   0,\n",
       "          0,   0],\n",
       "       [  0,   0,   0,   0,   0,   0,   0,   0,   0,   0,   0,  86, 253,\n",
       "        254, 253, 169,   0,   0,   0,   0,   0,   0,   0,   0,   0,   0,\n",
       "          0,   0],\n",
       "       [  0,   0,   0,   0,   0,   0,   0,   0,   0,   0,   0,  28, 196,\n",
       "        253, 251, 168,   0,   0,   0,   0,   0,   0,   0,   0,   0,   0,\n",
       "          0,   0],\n",
       "       [  0,   0,   0,   0,   0,   0,   0,   0,   0,   0,   0,   0, 169,\n",
       "        254, 253, 169,   0,   0,   0,   0,   0,   0,   0,   0,   0,   0,\n",
       "          0,   0],\n",
       "       [  0,   0,   0,   0,   0,   0,   0,   0,   0,   0,   0,   0, 168,\n",
       "        253, 251, 168,   0,   0,   0,   0,   0,   0,   0,   0,   0,   0,\n",
       "          0,   0],\n",
       "       [  0,   0,   0,   0,   0,   0,   0,   0,   0,   0,   0,   0, 169,\n",
       "        254, 253, 169,   0,   0,   0,   0,   0,   0,   0,   0,   0,   0,\n",
       "          0,   0],\n",
       "       [  0,   0,   0,   0,   0,   0,   0,   0,   0,   0,   0,   0, 168,\n",
       "        253, 251, 168,   0,   0,   0,   0,   0,   0,   0,   0,   0,   0,\n",
       "          0,   0],\n",
       "       [  0,   0,   0,   0,   0,   0,   0,   0,   0,   0,   0,   0,   0,\n",
       "        254, 253, 254, 139,   0,   0,   0,   0,   0,   0,   0,   0,   0,\n",
       "          0,   0],\n",
       "       [  0,   0,   0,   0,   0,   0,   0,   0,   0,   0,   0,   0,   0,\n",
       "        253, 251, 253, 251,   0,   0,   0,   0,   0,   0,   0,   0,   0,\n",
       "          0,   0],\n",
       "       [  0,   0,   0,   0,   0,   0,   0,   0,   0,   0,   0,   0,   0,\n",
       "        254, 253, 254, 253,  57,   0,   0,   0,   0,   0,   0,   0,   0,\n",
       "          0,   0],\n",
       "       [  0,   0,   0,   0,   0,   0,   0,   0,   0,   0,   0,   0,   0,\n",
       "        253, 251, 253, 251, 168,   0,   0,   0,   0,   0,   0,   0,   0,\n",
       "          0,   0],\n",
       "       [  0,   0,   0,   0,   0,   0,   0,   0,   0,   0,   0,   0,   0,\n",
       "        198, 253, 254, 253, 114,   0,   0,   0,   0,   0,   0,   0,   0,\n",
       "          0,   0],\n",
       "       [  0,   0,   0,   0,   0,   0,   0,   0,   0,   0,   0,   0,   0,\n",
       "         85, 251, 253, 251,   0,   0,   0,   0,   0,   0,   0,   0,   0,\n",
       "          0,   0],\n",
       "       [  0,   0,   0,   0,   0,   0,   0,   0,   0,   0,   0,   0,   0,\n",
       "         85, 253, 254, 253,   0,   0,   0,   0,   0,   0,   0,   0,   0,\n",
       "          0,   0],\n",
       "       [  0,   0,   0,   0,   0,   0,   0,   0,   0,   0,   0,   0,   0,\n",
       "         28,  83, 196,  83,   0,   0,   0,   0,   0,   0,   0,   0,   0,\n",
       "          0,   0],\n",
       "       [  0,   0,   0,   0,   0,   0,   0,   0,   0,   0,   0,   0,   0,\n",
       "          0,   0,   0,   0,   0,   0,   0,   0,   0,   0,   0,   0,   0,\n",
       "          0,   0],\n",
       "       [  0,   0,   0,   0,   0,   0,   0,   0,   0,   0,   0,   0,   0,\n",
       "          0,   0,   0,   0,   0,   0,   0,   0,   0,   0,   0,   0,   0,\n",
       "          0,   0],\n",
       "       [  0,   0,   0,   0,   0,   0,   0,   0,   0,   0,   0,   0,   0,\n",
       "          0,   0,   0,   0,   0,   0,   0,   0,   0,   0,   0,   0,   0,\n",
       "          0,   0],\n",
       "       [  0,   0,   0,   0,   0,   0,   0,   0,   0,   0,   0,   0,   0,\n",
       "          0,   0,   0,   0,   0,   0,   0,   0,   0,   0,   0,   0,   0,\n",
       "          0,   0]], dtype=uint8)"
      ]
     },
     "execution_count": 15,
     "metadata": {},
     "output_type": "execute_result"
    }
   ],
   "source": [
    "# Inspecting matrix element at index 200\n",
    "X_train_full[200]"
   ]
  },
  {
   "cell_type": "code",
   "execution_count": 16,
   "metadata": {},
   "outputs": [
    {
     "name": "stdout",
     "output_type": "stream",
     "text": [
      "Maximum value of the matrix at index 200:  255\n",
      "Minimum value of the matrix at index 200:  0\n"
     ]
    }
   ],
   "source": [
    "print(\"Maximum value of the matrix at index 200: \", X_train_full[200].max())\n",
    "print(\"Minimum value of the matrix at index 200: \", X_train_full[200].min())"
   ]
  },
  {
   "cell_type": "markdown",
   "metadata": {},
   "source": [
    "It looks like the values inside every matrix represent a pixel intensity value between 0 and 255 and on plotting the matrix, it should be an image. Let's plot these intensity values"
   ]
  },
  {
   "cell_type": "code",
   "execution_count": 17,
   "metadata": {},
   "outputs": [
    {
     "data": {
      "image/png": "[encoded data removed]",
      "text/plain": [
       "<Figure size 432x288 with 1 Axes>"
      ]
     },
     "metadata": {
      "needs_background": "light"
     },
     "output_type": "display_data"
    }
   ],
   "source": [
    "# Plotting the matrix using plt.imshow()\n",
    "plt.imshow(X_train_full[200], cmap=\"binary\");"
   ]
  },
  {
   "cell_type": "code",
   "execution_count": 18,
   "metadata": {},
   "outputs": [
    {
     "data": {
      "text/plain": [
       "1"
      ]
     },
     "execution_count": 18,
     "metadata": {},
     "output_type": "execute_result"
    }
   ],
   "source": [
    "# Corresponding target label for the matrix at index 200\n",
    "y_train_full[200]"
   ]
  },
  {
   "cell_type": "markdown",
   "metadata": {},
   "source": [
    "This is an image of `1` which is exactly the target variable value for `y_train_full[200]`"
   ]
  },
  {
   "cell_type": "markdown",
   "metadata": {},
   "source": [
    "Hence we can say that every matrix in `X_train_full` is a 28x28 matrix vector for the pixel intensities of the image of the digit represented by the corresponding value in `y_train_full`"
   ]
  },
  {
   "cell_type": "code",
   "execution_count": 19,
   "metadata": {},
   "outputs": [
    {
     "data": {
      "image/png": "[encoded data removed]",
      "text/plain": [
       "<Figure size 432x288 with 1 Axes>"
      ]
     },
     "metadata": {
      "needs_background": "light"
     },
     "output_type": "display_data"
    }
   ],
   "source": [
    "# Let's now check the distribution of labels in the target variable \n",
    "target_df = pd.DataFrame(y_train_full, columns=['target'])\n",
    "target_df['target'].value_counts().plot.bar();"
   ]
  },
  {
   "cell_type": "markdown",
   "metadata": {},
   "source": [
    "We can see that all the labels in the target are not perfectly distributed equally, but there is no imbalance of the categories."
   ]
  },
  {
   "cell_type": "markdown",
   "metadata": {},
   "source": [
    "## Step 2: Data Preprocessing "
   ]
  },
  {
   "cell_type": "markdown",
   "metadata": {},
   "source": [
    "Since we are going to optimise the data using Stochastic Gradient Descent as one of the optimizers, let us normalise the data and bring it between the range 0-1 by dividing with the maximum pixel intensity value 255"
   ]
  },
  {
   "cell_type": "code",
   "execution_count": 20,
   "metadata": {},
   "outputs": [],
   "source": [
    "X_train_full = X_train_full/255.0"
   ]
  },
  {
   "cell_type": "markdown",
   "metadata": {},
   "source": [
    "## Step 3: Divide dataset into Train/Test"
   ]
  },
  {
   "cell_type": "code",
   "execution_count": 21,
   "metadata": {},
   "outputs": [
    {
     "name": "stdout",
     "output_type": "stream",
     "text": [
      "X_train_full shape:  (60000, 28, 28)\n",
      "X_test shape:  (10000, 28, 28)\n"
     ]
    }
   ],
   "source": [
    "# Let's check the shape of X_train_full and X_test_full\n",
    "print(\"X_train_full shape: \",X_train_full.shape)\n",
    "print(\"X_test shape: \", X_test.shape)"
   ]
  },
  {
   "cell_type": "markdown",
   "metadata": {},
   "source": [
    "We can see that there are 60000 matrices of dimension 28x28 in `X_train_full` i.e there are 60000 images in  `X_train_full`\n",
    "Also, there are 10000 matrices of dimension 28x28 in `X_test` i.e there are 10000 images in  `X_test`"
   ]
  },
  {
   "cell_type": "markdown",
   "metadata": {},
   "source": [
    "Let us take the first 5000 values from `X_train_full` and the corresponding values from `y_train_full` and use them as the validation data and then use the remaining 55000 values from index 5000 to 60000 as the training data"
   ]
  },
  {
   "cell_type": "code",
   "execution_count": 22,
   "metadata": {},
   "outputs": [],
   "source": [
    "X_val, y_val = X_train_full[:5000], y_train_full[:5000]\n",
    "X_train, y_train = X_train_full[5000:], y_train_full[5000:]"
   ]
  },
  {
   "cell_type": "code",
   "execution_count": 23,
   "metadata": {},
   "outputs": [
    {
     "name": "stdout",
     "output_type": "stream",
     "text": [
      "Train data\n",
      "X_train shape:  (55000, 28, 28)\n",
      "y-train shape:  (55000,)\n",
      "\n",
      "Validation data\n",
      "X_val shape:  (5000, 28, 28)\n",
      "y_val shape:  (5000,)\n",
      "\n",
      "Test data\n",
      "X_test shape:  (10000, 28, 28)\n",
      "y-test shape:  (10000,)\n"
     ]
    }
   ],
   "source": [
    "# Train data\n",
    "print(\"Train data\")\n",
    "print(\"X_train shape: \",X_train.shape)\n",
    "print(\"y-train shape: \",y_train.shape)\n",
    "print()\n",
    "\n",
    "# Validation data\n",
    "print(\"Validation data\")\n",
    "print(\"X_val shape: \",X_val.shape)\n",
    "print(\"y_val shape: \",y_val.shape)\n",
    "print()\n",
    "\n",
    "# Test data\n",
    "print(\"Test data\")\n",
    "print(\"X_test shape: \",X_test.shape)\n",
    "print(\"y-test shape: \",y_test.shape)"
   ]
  },
  {
   "cell_type": "markdown",
   "metadata": {},
   "source": [
    "## Step 4: Build a Simple Dense Network using ExponentialLearningRate"
   ]
  },
  {
   "cell_type": "code",
   "execution_count": 24,
   "metadata": {},
   "outputs": [
    {
     "name": "stdout",
     "output_type": "stream",
     "text": [
      "Epoch 1/30\n",
      "1719/1719 [==============================] - 2s 1ms/step - loss: 5.3023 - accuracy: 0.0978 - val_loss: 5.1838 - val_accuracy: 0.1070 - lr: 0.0089\n",
      "Epoch 2/30\n",
      "1719/1719 [==============================] - 2s 1ms/step - loss: 5.2462 - accuracy: 0.0965 - val_loss: 5.1837 - val_accuracy: 0.1070 - lr: 0.0079\n",
      "Epoch 3/30\n",
      "1719/1719 [==============================] - 2s 1ms/step - loss: 5.2342 - accuracy: 0.0965 - val_loss: 5.1779 - val_accuracy: 0.1070 - lr: 0.0071\n",
      "Epoch 4/30\n",
      "1719/1719 [==============================] - 2s 1ms/step - loss: 5.1734 - accuracy: 0.0965 - val_loss: 5.0936 - val_accuracy: 0.1070 - lr: 0.0063\n",
      "Epoch 5/30\n",
      "1719/1719 [==============================] - 2s 1ms/step - loss: 3.5828 - accuracy: 0.1434 - val_loss: 2.2561 - val_accuracy: 0.2466 - lr: 0.0056\n",
      "Epoch 6/30\n",
      "1719/1719 [==============================] - 2s 1ms/step - loss: 2.2600 - accuracy: 0.2321 - val_loss: 2.2745 - val_accuracy: 0.2360 - lr: 0.0050\n",
      "Epoch 7/30\n",
      "1719/1719 [==============================] - 2s 1ms/step - loss: 2.2645 - accuracy: 0.2245 - val_loss: 2.2678 - val_accuracy: 0.2188 - lr: 0.0045\n",
      "Epoch 8/30\n",
      "1719/1719 [==============================] - 2s 1ms/step - loss: 2.2611 - accuracy: 0.2359 - val_loss: 2.2703 - val_accuracy: 0.2452 - lr: 0.0040\n",
      "Epoch 9/30\n",
      "1719/1719 [==============================] - 2s 1ms/step - loss: 2.2366 - accuracy: 0.2261 - val_loss: 2.1899 - val_accuracy: 0.2196 - lr: 0.0035\n",
      "Epoch 10/30\n",
      "1719/1719 [==============================] - 2s 1ms/step - loss: 3.5211 - accuracy: 0.1669 - val_loss: 5.1696 - val_accuracy: 0.1276 - lr: 0.0032\n",
      "Epoch 11/30\n",
      "1719/1719 [==============================] - 2s 1ms/step - loss: 5.2409 - accuracy: 0.1283 - val_loss: 5.1772 - val_accuracy: 0.1366 - lr: 0.0028\n",
      "Epoch 12/30\n",
      "1719/1719 [==============================] - 2s 1ms/step - loss: 4.5757 - accuracy: 0.1280 - val_loss: 3.6610 - val_accuracy: 0.1002 - lr: 0.0025\n",
      "Epoch 13/30\n",
      "1719/1719 [==============================] - 2s 1ms/step - loss: 3.7476 - accuracy: 0.0985 - val_loss: 3.6397 - val_accuracy: 0.1002 - lr: 0.0022\n",
      "Epoch 14/30\n",
      "1719/1719 [==============================] - 2s 1ms/step - loss: 3.7508 - accuracy: 0.0985 - val_loss: 3.6624 - val_accuracy: 0.1002 - lr: 0.0020\n",
      "Epoch 15/30\n",
      "1719/1719 [==============================] - 2s 1ms/step - loss: 3.7311 - accuracy: 0.0985 - val_loss: 3.6338 - val_accuracy: 0.1004 - lr: 0.0018\n",
      "Epoch 16/30\n",
      "1719/1719 [==============================] - 2s 1ms/step - loss: 3.6964 - accuracy: 0.0985 - val_loss: 3.6193 - val_accuracy: 0.1004 - lr: 0.0016\n",
      "Epoch 17/30\n",
      "1719/1719 [==============================] - 2s 1ms/step - loss: 3.6789 - accuracy: 0.0988 - val_loss: 3.5660 - val_accuracy: 0.1008 - lr: 0.0014\n",
      "Epoch 18/30\n",
      "1719/1719 [==============================] - 2s 1ms/step - loss: 3.6537 - accuracy: 0.0991 - val_loss: 3.5757 - val_accuracy: 0.1010 - lr: 0.0013\n",
      "Epoch 19/30\n",
      "1719/1719 [==============================] - 2s 1ms/step - loss: 3.6706 - accuracy: 0.0998 - val_loss: 3.5278 - val_accuracy: 0.1024 - lr: 0.0011\n",
      "Epoch 20/30\n",
      "1719/1719 [==============================] - 2s 1ms/step - loss: 3.6325 - accuracy: 0.1019 - val_loss: 3.5362 - val_accuracy: 0.1050 - lr: 1.0000e-03\n",
      "Epoch 21/30\n",
      "1719/1719 [==============================] - 2s 1ms/step - loss: 3.5803 - accuracy: 0.1082 - val_loss: 3.5243 - val_accuracy: 0.1034 - lr: 8.9125e-04\n",
      "Epoch 22/30\n",
      "1719/1719 [==============================] - 2s 1ms/step - loss: 3.5441 - accuracy: 0.0994 - val_loss: 3.4910 - val_accuracy: 0.1026 - lr: 7.9433e-04\n",
      "Epoch 23/30\n",
      "1719/1719 [==============================] - 2s 1ms/step - loss: 3.5303 - accuracy: 0.0942 - val_loss: 3.4888 - val_accuracy: 0.0968 - lr: 7.0795e-04\n",
      "Epoch 24/30\n",
      "1719/1719 [==============================] - 2s 1ms/step - loss: 2.7047 - accuracy: 0.0803 - val_loss: 2.1971 - val_accuracy: 0.0576 - lr: 6.3096e-04\n",
      "Epoch 25/30\n",
      "1719/1719 [==============================] - 2s 1ms/step - loss: 2.2188 - accuracy: 0.0527 - val_loss: 2.2267 - val_accuracy: 0.0584 - lr: 5.6234e-04\n",
      "Epoch 26/30\n",
      "1719/1719 [==============================] - 2s 1ms/step - loss: 2.2212 - accuracy: 0.0534 - val_loss: 2.2338 - val_accuracy: 0.0586 - lr: 5.0119e-04\n",
      "Epoch 27/30\n",
      "1719/1719 [==============================] - 2s 1ms/step - loss: 2.2505 - accuracy: 0.0524 - val_loss: 2.2572 - val_accuracy: 0.0604 - lr: 4.4668e-04\n",
      "Epoch 28/30\n",
      "1719/1719 [==============================] - 2s 1ms/step - loss: 2.2410 - accuracy: 0.0529 - val_loss: 2.2337 - val_accuracy: 0.0568 - lr: 3.9811e-04\n",
      "Epoch 29/30\n",
      "1719/1719 [==============================] - 2s 1ms/step - loss: 2.2249 - accuracy: 0.0527 - val_loss: 2.2200 - val_accuracy: 0.0570 - lr: 3.5481e-04\n",
      "Epoch 30/30\n",
      "1719/1719 [==============================] - 2s 1ms/step - loss: 2.2111 - accuracy: 0.0523 - val_loss: 2.2137 - val_accuracy: 0.0568 - lr: 3.1623e-04\n"
     ]
    },
    {
     "data": {
      "text/plain": [
       "<matplotlib.axes._subplots.AxesSubplot at 0x241b12fc448>"
      ]
     },
     "execution_count": 24,
     "metadata": {},
     "output_type": "execute_result"
    },
    {
     "data": {
      "image/png": "[encoded data removed]",
      "text/plain": [
       "<Figure size 720x576 with 1 Axes>"
      ]
     },
     "metadata": {
      "needs_background": "light"
     },
     "output_type": "display_data"
    }
   ],
   "source": [
    "# Reference for the below model has been taken from page no 295 of the book\n",
    "# Hands-On-Machine-Learning-with-Scikit-Learn-Keras-and-Tensorflow_-Concepts-Tools-and-Techniques-to-Build-Intelligent-Systems-O’Reilly-Media-2019\n",
    "\n",
    "# Initialising a Sequential model\n",
    "model = keras.models.Sequential()\n",
    "\n",
    "# Adding a Flatten layer that converts every 28x28 matrix into a 1D array input of 784 values\n",
    "model.add(keras.layers.Flatten(input_shape=[28, 28]))\n",
    "\n",
    "# Adding a Dense layer of 300 neurons\n",
    "model.add(keras.layers.Dense(300))\n",
    "\n",
    "# Adding a second Dense layer of 100 neurons\n",
    "model.add(keras.layers.Dense(100))\n",
    "\n",
    "# Adding the output layer containing 10 neurons, one for each class label between 0-9\n",
    "model.add(keras.layers.Dense(10))\n",
    "\n",
    "# Defining an exponential decay function that reduces the learning rate by a factor of (1/10)^(1/20) causing an exponential decrease starting right after epoch 0\n",
    "def exponential_decay_fn(epoch, lr):\n",
    "    return lr * 0.1**(1 / 20)\n",
    "\n",
    "# Compiling the model using Stochastic Gradient Descent as the optimizer and sparse categorical crossentropy as the loss since \n",
    "# the target variable is label-encoded and not one-hot encoded.\n",
    "model.compile(optimizer=keras.optimizers.SGD(),\n",
    "              loss='sparse_categorical_crossentropy',\n",
    "              metrics=['accuracy'])\n",
    "\n",
    "# Fitting the model on the data\n",
    "history = model.fit(X_train, y_train, epochs=30, validation_data=(X_val, y_val), callbacks=[keras.callbacks.LearningRateScheduler(exponential_decay_fn)])\n",
    "\n",
    "# Plotting the loss, accuracy, validation loss, validation accuracy\n",
    "pd.DataFrame(history.history).plot(figsize=(10, 8))"
   ]
  },
  {
   "cell_type": "markdown",
   "metadata": {},
   "source": [
    "As we can see from the above plots, the accuracy of the model on the training data and the validation data is quite low and the loss is increasing instead of decreasing. This is mainly because of not using any activation function."
   ]
  },
  {
   "cell_type": "markdown",
   "metadata": {},
   "source": [
    "## Step 5: Use sigmoid, relu, and softmax as activation functions"
   ]
  },
  {
   "cell_type": "code",
   "execution_count": 25,
   "metadata": {},
   "outputs": [
    {
     "name": "stdout",
     "output_type": "stream",
     "text": [
      "Epoch 1/30\n",
      "1719/1719 [==============================] - 3s 2ms/step - loss: 0.8280 - accuracy: 0.7833 - val_loss: 0.3385 - val_accuracy: 0.9086 - lr: 0.0089\n",
      "Epoch 2/30\n",
      "1719/1719 [==============================] - 2s 1ms/step - loss: 0.3201 - accuracy: 0.9107 - val_loss: 0.2739 - val_accuracy: 0.9244 - lr: 0.0079\n",
      "Epoch 3/30\n",
      "1719/1719 [==============================] - 2s 1ms/step - loss: 0.2683 - accuracy: 0.9239 - val_loss: 0.2310 - val_accuracy: 0.9346 - lr: 0.0071\n",
      "Epoch 4/30\n",
      "1719/1719 [==============================] - 2s 1ms/step - loss: 0.2368 - accuracy: 0.9337 - val_loss: 0.2114 - val_accuracy: 0.9398 - lr: 0.0063\n",
      "Epoch 5/30\n",
      "1719/1719 [==============================] - 3s 2ms/step - loss: 0.2140 - accuracy: 0.9399 - val_loss: 0.1975 - val_accuracy: 0.9444 - lr: 0.0056\n",
      "Epoch 6/30\n",
      "1719/1719 [==============================] - 2s 1ms/step - loss: 0.1977 - accuracy: 0.9443 - val_loss: 0.1849 - val_accuracy: 0.9462 - lr: 0.0050\n",
      "Epoch 7/30\n",
      "1719/1719 [==============================] - 2s 1ms/step - loss: 0.1849 - accuracy: 0.9479 - val_loss: 0.1758 - val_accuracy: 0.9474 - lr: 0.0045\n",
      "Epoch 8/30\n",
      "1719/1719 [==============================] - 3s 2ms/step - loss: 0.1747 - accuracy: 0.9506 - val_loss: 0.1668 - val_accuracy: 0.9516 - lr: 0.0040\n",
      "Epoch 9/30\n",
      "1719/1719 [==============================] - 2s 1ms/step - loss: 0.1667 - accuracy: 0.9530 - val_loss: 0.1618 - val_accuracy: 0.9556 - lr: 0.0035\n",
      "Epoch 10/30\n",
      "1719/1719 [==============================] - 2s 1ms/step - loss: 0.1596 - accuracy: 0.9552 - val_loss: 0.1559 - val_accuracy: 0.9550 - lr: 0.0032\n",
      "Epoch 11/30\n",
      "1719/1719 [==============================] - 2s 1ms/step - loss: 0.1539 - accuracy: 0.9570 - val_loss: 0.1526 - val_accuracy: 0.9586 - lr: 0.0028\n",
      "Epoch 12/30\n",
      "1719/1719 [==============================] - 3s 2ms/step - loss: 0.1492 - accuracy: 0.9582 - val_loss: 0.1487 - val_accuracy: 0.9584 - lr: 0.0025\n",
      "Epoch 13/30\n",
      "1719/1719 [==============================] - 2s 1ms/step - loss: 0.1451 - accuracy: 0.9593 - val_loss: 0.1451 - val_accuracy: 0.9612 - lr: 0.0022\n",
      "Epoch 14/30\n",
      "1719/1719 [==============================] - 3s 2ms/step - loss: 0.1416 - accuracy: 0.9602 - val_loss: 0.1436 - val_accuracy: 0.9604 - lr: 0.0020\n",
      "Epoch 15/30\n",
      "1719/1719 [==============================] - 3s 2ms/step - loss: 0.1386 - accuracy: 0.9612 - val_loss: 0.1414 - val_accuracy: 0.9616 - lr: 0.0018\n",
      "Epoch 16/30\n",
      "1719/1719 [==============================] - 2s 1ms/step - loss: 0.1360 - accuracy: 0.9621 - val_loss: 0.1400 - val_accuracy: 0.9614 - lr: 0.0016\n",
      "Epoch 17/30\n",
      "1719/1719 [==============================] - 2s 1ms/step - loss: 0.1337 - accuracy: 0.9628 - val_loss: 0.1382 - val_accuracy: 0.9630 - lr: 0.0014\n",
      "Epoch 18/30\n",
      "1719/1719 [==============================] - 2s 1ms/step - loss: 0.1317 - accuracy: 0.9633 - val_loss: 0.1370 - val_accuracy: 0.9628 - lr: 0.0013\n",
      "Epoch 19/30\n",
      "1719/1719 [==============================] - 2s 1ms/step - loss: 0.1302 - accuracy: 0.9639 - val_loss: 0.1366 - val_accuracy: 0.9616 - lr: 0.0011\n",
      "Epoch 20/30\n",
      "1719/1719 [==============================] - 2s 1ms/step - loss: 0.1285 - accuracy: 0.9643 - val_loss: 0.1345 - val_accuracy: 0.9634 - lr: 1.0000e-03\n",
      "Epoch 21/30\n",
      "1719/1719 [==============================] - 2s 1ms/step - loss: 0.1273 - accuracy: 0.9647 - val_loss: 0.1332 - val_accuracy: 0.9650 - lr: 8.9125e-04\n",
      "Epoch 22/30\n",
      "1719/1719 [==============================] - 3s 2ms/step - loss: 0.1262 - accuracy: 0.9650 - val_loss: 0.1327 - val_accuracy: 0.9644 - lr: 7.9433e-04\n",
      "Epoch 23/30\n",
      "1719/1719 [==============================] - 3s 2ms/step - loss: 0.1251 - accuracy: 0.9654 - val_loss: 0.1324 - val_accuracy: 0.9640 - lr: 7.0795e-04\n",
      "Epoch 24/30\n",
      "1719/1719 [==============================] - 3s 2ms/step - loss: 0.1243 - accuracy: 0.9655 - val_loss: 0.1319 - val_accuracy: 0.9646 - lr: 6.3096e-04\n",
      "Epoch 25/30\n",
      "1719/1719 [==============================] - 3s 1ms/step - loss: 0.1236 - accuracy: 0.9657 - val_loss: 0.1310 - val_accuracy: 0.9648 - lr: 5.6234e-04\n",
      "Epoch 26/30\n",
      "1719/1719 [==============================] - 3s 2ms/step - loss: 0.1228 - accuracy: 0.9657 - val_loss: 0.1306 - val_accuracy: 0.9644 - lr: 5.0119e-04\n",
      "Epoch 27/30\n",
      "1719/1719 [==============================] - 3s 2ms/step - loss: 0.1222 - accuracy: 0.9659 - val_loss: 0.1302 - val_accuracy: 0.9648 - lr: 4.4668e-04\n",
      "Epoch 28/30\n",
      "1719/1719 [==============================] - 2s 1ms/step - loss: 0.1217 - accuracy: 0.9661 - val_loss: 0.1296 - val_accuracy: 0.9660 - lr: 3.9811e-04\n",
      "Epoch 29/30\n",
      "1719/1719 [==============================] - 2s 1ms/step - loss: 0.1213 - accuracy: 0.9664 - val_loss: 0.1294 - val_accuracy: 0.9656 - lr: 3.5481e-04\n",
      "Epoch 30/30\n",
      "1719/1719 [==============================] - 2s 1ms/step - loss: 0.1207 - accuracy: 0.9667 - val_loss: 0.1295 - val_accuracy: 0.9644 - lr: 3.1623e-04\n"
     ]
    },
    {
     "data": {
      "text/plain": [
       "<matplotlib.axes._subplots.AxesSubplot at 0x241c7f7d648>"
      ]
     },
     "execution_count": 25,
     "metadata": {},
     "output_type": "execute_result"
    },
    {
     "data": {
      "image/png": "[encoded data removed]",
      "text/plain": [
       "<Figure size 720x576 with 1 Axes>"
      ]
     },
     "metadata": {
      "needs_background": "light"
     },
     "output_type": "display_data"
    }
   ],
   "source": [
    "# Reference for the below model has been taken from page no 295 of the book\n",
    "# Hands-On-Machine-Learning-with-Scikit-Learn-Keras-and-Tensorflow_-Concepts-Tools-and-Techniques-to-Build-Intelligent-Systems-O’Reilly-Media-2019\n",
    "\n",
    "\n",
    "# Initialising a Sequential model\n",
    "model = keras.models.Sequential()\n",
    "\n",
    "# Adding a Flatten layer that converts every 28x28 matrix into a 1D array input of 784 values\n",
    "model.add(keras.layers.Flatten(input_shape=[28, 28]))\n",
    "\n",
    "# Adding a Dense layer of 300 neurons with relu as the activation function\n",
    "model.add(keras.layers.Dense(300,  activation=\"relu\"))\n",
    "\n",
    "# Adding a second Dense layer of 100 neurons with relu as the activation function\n",
    "model.add(keras.layers.Dense(100, activation=\"relu\"))\n",
    "\n",
    "# Adding the output layer containing 10 neurons, one for each class label between 0-9 with softmax as the activation function\n",
    "model.add(keras.layers.Dense(10, activation=\"sigmoid\"))\n",
    "\n",
    "# Defining an exponential decay function that reduces the learning rate by a factor of (1/10)^(1/20) causing an exponential decrease starting right from epoch 0\n",
    "def exponential_decay_fn(epoch, lr):\n",
    "    return lr * 0.1**(1 / 20)\n",
    "\n",
    "\n",
    "# Compiling the model using Stochastic Gradient Descent as the optimizer and sparse categorical crossentropy as the loss since \n",
    "# the target variable is label-encoded and not one-hot encoded.\n",
    "model.compile(optimizer=keras.optimizers.SGD(), \n",
    "              loss='sparse_categorical_crossentropy',\n",
    "              metrics=['accuracy'])\n",
    "\n",
    "# Fitting the model on the data\n",
    "history_activation = model.fit(X_train, y_train, epochs=30, validation_data=(X_val, y_val), callbacks=[keras.callbacks.LearningRateScheduler(exponential_decay_fn)])\n",
    "\n",
    "# Plotting the loss, accuracy, validation loss, validation accuracy\n",
    "pd.DataFrame(history_activation.history).plot(figsize=(10, 8))"
   ]
  },
  {
   "cell_type": "markdown",
   "metadata": {},
   "source": [
    "From the results of the above training, we can see that the loss is decreasing and the accuracy on the training and the validation data both are close to 1 and approximately equal throughout the 30 epochs. This is an indication of neither overfitting nor underfitting of the model. It means that our model seems to have learnt to generalise the data well."
   ]
  },
  {
   "cell_type": "markdown",
   "metadata": {},
   "source": [
    "## Step 6: Plot the loss as a function of the learning rate"
   ]
  },
  {
   "cell_type": "code",
   "execution_count": 26,
   "metadata": {},
   "outputs": [
    {
     "data": {
      "text/plain": [
       "Text(0, 0.5, 'loss')"
      ]
     },
     "execution_count": 26,
     "metadata": {},
     "output_type": "execute_result"
    },
    {
     "data": {
      "image/png": "[encoded data removed]",
      "text/plain": [
       "<Figure size 432x288 with 1 Axes>"
      ]
     },
     "metadata": {
      "needs_background": "light"
     },
     "output_type": "display_data"
    }
   ],
   "source": [
    "# Getting the loss\n",
    "loss = history_activation.history['loss']\n",
    "\n",
    "# Getting the learning rates\n",
    "learning_rate = history_activation.history['lr']\n",
    "\n",
    "# Plotting loss on the y-axis as a function of the learning_rate on the x-axis\n",
    "plt.plot(learning_rate, loss)\n",
    "plt.title(\"Loss vs learning_rate\");\n",
    "plt.xlabel(\"learning_rate\"),\n",
    "plt.ylabel(\"loss\")\n"
   ]
  },
  {
   "cell_type": "markdown",
   "metadata": {},
   "source": [
    "## Step 7 - What is the value of lr when loss shoots up?"
   ]
  },
  {
   "cell_type": "markdown",
   "metadata": {},
   "source": [
    "As we can see from the above graph of the loss as a function of the learning_rate, the loss increases gradually and then shoots up at the learning rate value of 0.008"
   ]
  },
  {
   "cell_type": "markdown",
   "metadata": {},
   "source": [
    "## Step 8 - compile losses, use various optimizers. Check the documentation on losses to learn more."
   ]
  },
  {
   "cell_type": "markdown",
   "metadata": {},
   "source": [
    "Since we have used SGD() optimiser for the above result, let's now try using the below optimisers\n",
    "    - 1. RMS_prop\n",
    "    - 2. Adam\n",
    "    - 3. Adagrad\n"
   ]
  },
  {
   "cell_type": "markdown",
   "metadata": {},
   "source": [
    "But prior to that let us train the MLP model using a modified exponential decay function"
   ]
  },
  {
   "cell_type": "code",
   "execution_count": 26,
   "metadata": {},
   "outputs": [
    {
     "name": "stdout",
     "output_type": "stream",
     "text": [
      "Epoch 1/30\n",
      "1719/1719 [==============================] - 3s 2ms/step - loss: 0.7724 - accuracy: 0.8032 - val_loss: 0.3257 - val_accuracy: 0.9118 - lr: 0.0100\n",
      "Epoch 2/30\n",
      "1719/1719 [==============================] - 2s 1ms/step - loss: 0.3046 - accuracy: 0.9130 - val_loss: 0.2524 - val_accuracy: 0.9326 - lr: 0.0100\n",
      "Epoch 3/30\n",
      "1719/1719 [==============================] - 2s 1ms/step - loss: 0.2497 - accuracy: 0.9288 - val_loss: 0.2156 - val_accuracy: 0.9422 - lr: 0.0100\n",
      "Epoch 4/30\n",
      "1719/1719 [==============================] - 2s 1ms/step - loss: 0.2131 - accuracy: 0.9391 - val_loss: 0.1868 - val_accuracy: 0.9492 - lr: 0.0100\n",
      "Epoch 5/30\n",
      "1719/1719 [==============================] - 3s 1ms/step - loss: 0.1863 - accuracy: 0.9473 - val_loss: 0.1736 - val_accuracy: 0.9556 - lr: 0.0100\n",
      "Epoch 6/30\n",
      "1719/1719 [==============================] - 2s 1ms/step - loss: 0.1655 - accuracy: 0.9532 - val_loss: 0.1549 - val_accuracy: 0.9588 - lr: 0.0100\n",
      "Epoch 7/30\n",
      "1719/1719 [==============================] - 2s 1ms/step - loss: 0.1482 - accuracy: 0.9579 - val_loss: 0.1404 - val_accuracy: 0.9626 - lr: 0.0100\n",
      "Epoch 8/30\n",
      "1719/1719 [==============================] - 3s 2ms/step - loss: 0.1342 - accuracy: 0.9621 - val_loss: 0.1301 - val_accuracy: 0.9638 - lr: 0.0100\n",
      "Epoch 9/30\n",
      "1719/1719 [==============================] - 2s 1ms/step - loss: 0.1227 - accuracy: 0.9653 - val_loss: 0.1240 - val_accuracy: 0.9666 - lr: 0.0100\n",
      "Epoch 10/30\n",
      "1719/1719 [==============================] - 2s 1ms/step - loss: 0.1124 - accuracy: 0.9686 - val_loss: 0.1127 - val_accuracy: 0.9702 - lr: 0.0100\n",
      "Epoch 11/30\n",
      "1719/1719 [==============================] - 2s 1ms/step - loss: 0.1034 - accuracy: 0.9712 - val_loss: 0.1100 - val_accuracy: 0.9706 - lr: 0.0090\n",
      "Epoch 12/30\n",
      "1719/1719 [==============================] - 3s 2ms/step - loss: 0.0959 - accuracy: 0.9734 - val_loss: 0.1067 - val_accuracy: 0.9708 - lr: 0.0082\n",
      "Epoch 13/30\n",
      "1719/1719 [==============================] - 3s 2ms/step - loss: 0.0894 - accuracy: 0.9756 - val_loss: 0.1003 - val_accuracy: 0.9708 - lr: 0.0074\n",
      "Epoch 14/30\n",
      "1719/1719 [==============================] - 2s 1ms/step - loss: 0.0846 - accuracy: 0.9766 - val_loss: 0.0982 - val_accuracy: 0.9718 - lr: 0.0067\n",
      "Epoch 15/30\n",
      "1719/1719 [==============================] - 2s 1ms/step - loss: 0.0802 - accuracy: 0.9778 - val_loss: 0.0949 - val_accuracy: 0.9732 - lr: 0.0061\n",
      "Epoch 16/30\n",
      "1719/1719 [==============================] - 2s 1ms/step - loss: 0.0765 - accuracy: 0.9792 - val_loss: 0.0920 - val_accuracy: 0.9744 - lr: 0.0055\n",
      "Epoch 17/30\n",
      "1719/1719 [==============================] - 2s 1ms/step - loss: 0.0732 - accuracy: 0.9800 - val_loss: 0.0903 - val_accuracy: 0.9736 - lr: 0.0050\n",
      "Epoch 18/30\n",
      "1719/1719 [==============================] - 2s 1ms/step - loss: 0.0707 - accuracy: 0.9811 - val_loss: 0.0897 - val_accuracy: 0.9736 - lr: 0.0045\n",
      "Epoch 19/30\n",
      "1719/1719 [==============================] - 3s 1ms/step - loss: 0.0684 - accuracy: 0.9818 - val_loss: 0.0885 - val_accuracy: 0.9746 - lr: 0.0041\n",
      "Epoch 20/30\n",
      "1719/1719 [==============================] - 2s 1ms/step - loss: 0.0663 - accuracy: 0.9821 - val_loss: 0.0868 - val_accuracy: 0.9752 - lr: 0.0037\n",
      "Epoch 21/30\n",
      "1719/1719 [==============================] - 2s 1ms/step - loss: 0.0645 - accuracy: 0.9830 - val_loss: 0.0863 - val_accuracy: 0.9752 - lr: 0.0033\n",
      "Epoch 22/30\n",
      "1719/1719 [==============================] - 2s 1ms/step - loss: 0.0629 - accuracy: 0.9835 - val_loss: 0.0851 - val_accuracy: 0.9758 - lr: 0.0030\n",
      "Epoch 23/30\n",
      "1719/1719 [==============================] - 2s 1ms/step - loss: 0.0615 - accuracy: 0.9839 - val_loss: 0.0853 - val_accuracy: 0.9750 - lr: 0.0027\n",
      "Epoch 24/30\n",
      "1719/1719 [==============================] - 2s 1ms/step - loss: 0.0603 - accuracy: 0.9841 - val_loss: 0.0836 - val_accuracy: 0.9754 - lr: 0.0025\n",
      "Epoch 25/30\n",
      "1719/1719 [==============================] - 2s 1ms/step - loss: 0.0593 - accuracy: 0.9849 - val_loss: 0.0829 - val_accuracy: 0.9752 - lr: 0.0022\n",
      "Epoch 26/30\n",
      "1719/1719 [==============================] - 2s 1ms/step - loss: 0.0583 - accuracy: 0.9852 - val_loss: 0.0827 - val_accuracy: 0.9764 - lr: 0.0020\n",
      "Epoch 27/30\n",
      "1719/1719 [==============================] - 2s 1ms/step - loss: 0.0575 - accuracy: 0.9853 - val_loss: 0.0827 - val_accuracy: 0.9764 - lr: 0.0018\n",
      "Epoch 28/30\n",
      "1719/1719 [==============================] - 2s 1ms/step - loss: 0.0567 - accuracy: 0.9856 - val_loss: 0.0818 - val_accuracy: 0.9760 - lr: 0.0017\n",
      "Epoch 29/30\n",
      "1719/1719 [==============================] - 3s 1ms/step - loss: 0.0560 - accuracy: 0.9857 - val_loss: 0.0819 - val_accuracy: 0.9764 - lr: 0.0015\n",
      "Epoch 30/30\n",
      "1719/1719 [==============================] - 3s 2ms/step - loss: 0.0555 - accuracy: 0.9861 - val_loss: 0.0812 - val_accuracy: 0.9758 - lr: 0.0014\n"
     ]
    },
    {
     "data": {
      "text/plain": [
       "<matplotlib.axes._subplots.AxesSubplot at 0x20814813948>"
      ]
     },
     "execution_count": 26,
     "metadata": {},
     "output_type": "execute_result"
    },
    {
     "data": {
      "image/png": "[encoded data removed]",
      "text/plain": [
       "<Figure size 720x576 with 1 Axes>"
      ]
     },
     "metadata": {
      "needs_background": "light"
     },
     "output_type": "display_data"
    }
   ],
   "source": [
    "# Reference for the below model has been taken from page no 295 of the book\n",
    "# Hands-On-Machine-Learning-with-Scikit-Learn-Keras-and-Tensorflow_-Concepts-Tools-and-Techniques-to-Build-Intelligent-Systems-O’Reilly-Media-2019\n",
    "\n",
    "\n",
    "# Initialising a Sequential model\n",
    "model = keras.models.Sequential()\n",
    "\n",
    "# Adding a Flatten layer that converts every 28x28 matrix into a 1D array input of 784 values\n",
    "model.add(keras.layers.Flatten(input_shape=[28, 28]))\n",
    "\n",
    "# Adding a Dense layer of 300 neurons with relu as the activation function\n",
    "model.add(keras.layers.Dense(300,  activation=\"relu\"))\n",
    "\n",
    "# Adding a second Dense layer of 100 neurons with relu as the activation function\n",
    "model.add(keras.layers.Dense(100, activation=\"relu\"))\n",
    "\n",
    "# Adding the output layer containing 10 neurons, one for each class label between 0-9 with softmax as the activation function\n",
    "model.add(keras.layers.Dense(10, activation=\"sigmoid\"))\n",
    "\n",
    "# Writing a custom scheduler that exponentially reduces the learning rate after 10 epochs. \n",
    "# source of the below function - https://www.tensorflow.org/api_docs/python/tf/keras/callbacks/LearningRateScheduler\n",
    "def scheduler(epoch, lr):\n",
    "    if epoch < 10:\n",
    "        return lr\n",
    "    else:\n",
    "        return lr * np.math.exp(-0.1)\n",
    "\n",
    "\n",
    "# Compiling the model using Stochastic Gradient Descent as the optimizer and sparse categorical crossentropy as the loss since \n",
    "# the target variable is label-encoded and not one-hot encoded.\n",
    "model.compile(optimizer=keras.optimizers.SGD(), \n",
    "              loss='sparse_categorical_crossentropy',\n",
    "              metrics=['accuracy'])\n",
    "\n",
    "# Fitting the model on the data\n",
    "history_activation = model.fit(X_train, y_train, epochs=30, validation_data=(X_val, y_val), callbacks=[keras.callbacks.LearningRateScheduler(scheduler)])\n",
    "\n",
    "# Plotting the loss, accuracy, validation loss, validation accuracy\n",
    "pd.DataFrame(history_activation.history).plot(figsize=(10, 8))"
   ]
  },
  {
   "cell_type": "markdown",
   "metadata": {},
   "source": [
    "As we can see, the accuracy levels reported using the modified exponential decay function are slightly higher compared to the previous function. Hence, we shall use this modified function of exponential decay while training the below models"
   ]
  },
  {
   "cell_type": "code",
   "execution_count": 27,
   "metadata": {
    "scrolled": false
   },
   "outputs": [
    {
     "name": "stdout",
     "output_type": "stream",
     "text": [
      "Epoch 1/30\n",
      "1719/1719 [==============================] - 3s 2ms/step - loss: 0.2295 - accuracy: 0.9322 - val_loss: 0.1066 - val_accuracy: 0.9684 - lr: 0.0010\n",
      "Epoch 2/30\n",
      "1719/1719 [==============================] - 3s 2ms/step - loss: 0.0930 - accuracy: 0.9719 - val_loss: 0.0794 - val_accuracy: 0.9778 - lr: 0.0010\n",
      "Epoch 3/30\n",
      "1719/1719 [==============================] - 3s 2ms/step - loss: 0.0628 - accuracy: 0.9805 - val_loss: 0.0741 - val_accuracy: 0.9804 - lr: 0.0010\n",
      "Epoch 4/30\n",
      "1719/1719 [==============================] - 3s 2ms/step - loss: 0.0473 - accuracy: 0.9845 - val_loss: 0.0751 - val_accuracy: 0.9780 - lr: 0.0010\n",
      "Epoch 5/30\n",
      "1719/1719 [==============================] - 3s 2ms/step - loss: 0.0380 - accuracy: 0.9874 - val_loss: 0.0750 - val_accuracy: 0.9790 - lr: 0.0010\n",
      "Epoch 6/30\n",
      "1719/1719 [==============================] - 4s 3ms/step - loss: 0.0293 - accuracy: 0.9907 - val_loss: 0.0831 - val_accuracy: 0.9794 - lr: 0.0010\n",
      "Epoch 7/30\n",
      "1719/1719 [==============================] - 5s 3ms/step - loss: 0.0257 - accuracy: 0.9919 - val_loss: 0.0876 - val_accuracy: 0.9804 - lr: 0.0010\n",
      "Epoch 8/30\n",
      "1719/1719 [==============================] - 4s 2ms/step - loss: 0.0212 - accuracy: 0.9929 - val_loss: 0.0915 - val_accuracy: 0.9800 - lr: 0.0010\n",
      "Epoch 9/30\n",
      "1719/1719 [==============================] - 4s 3ms/step - loss: 0.0192 - accuracy: 0.9938 - val_loss: 0.1000 - val_accuracy: 0.9764 - lr: 0.0010\n",
      "Epoch 10/30\n",
      "1719/1719 [==============================] - 4s 2ms/step - loss: 0.0172 - accuracy: 0.9943 - val_loss: 0.1027 - val_accuracy: 0.9762 - lr: 0.0010\n",
      "Epoch 11/30\n",
      "1719/1719 [==============================] - 4s 2ms/step - loss: 0.0143 - accuracy: 0.9954 - val_loss: 0.0962 - val_accuracy: 0.9818 - lr: 9.0484e-04\n",
      "Epoch 12/30\n",
      "1719/1719 [==============================] - 4s 2ms/step - loss: 0.0086 - accuracy: 0.9971 - val_loss: 0.0920 - val_accuracy: 0.9806 - lr: 8.1873e-04\n",
      "Epoch 13/30\n",
      "1719/1719 [==============================] - 4s 2ms/step - loss: 0.0067 - accuracy: 0.9978 - val_loss: 0.0882 - val_accuracy: 0.9840 - lr: 7.4082e-04\n",
      "Epoch 14/30\n",
      "1719/1719 [==============================] - 3s 2ms/step - loss: 0.0065 - accuracy: 0.9978 - val_loss: 0.1334 - val_accuracy: 0.9760 - lr: 6.7032e-04\n",
      "Epoch 15/30\n",
      "1719/1719 [==============================] - 3s 2ms/step - loss: 0.0043 - accuracy: 0.9985 - val_loss: 0.1034 - val_accuracy: 0.9802 - lr: 6.0653e-04\n",
      "Epoch 16/30\n",
      "1719/1719 [==============================] - 3s 2ms/step - loss: 0.0025 - accuracy: 0.9993 - val_loss: 0.1010 - val_accuracy: 0.9820 - lr: 5.4881e-04\n",
      "Epoch 17/30\n",
      "1719/1719 [==============================] - 3s 2ms/step - loss: 0.0027 - accuracy: 0.9991 - val_loss: 0.0888 - val_accuracy: 0.9850 - lr: 4.9659e-04\n",
      "Epoch 18/30\n",
      "1719/1719 [==============================] - 3s 2ms/step - loss: 0.0011 - accuracy: 0.9996 - val_loss: 0.0897 - val_accuracy: 0.9846 - lr: 4.4933e-04\n",
      "Epoch 19/30\n",
      "1719/1719 [==============================] - 3s 2ms/step - loss: 0.0013 - accuracy: 0.9995 - val_loss: 0.0979 - val_accuracy: 0.9848 - lr: 4.0657e-04\n",
      "Epoch 20/30\n",
      "1719/1719 [==============================] - 3s 2ms/step - loss: 7.2279e-04 - accuracy: 0.9997 - val_loss: 0.0955 - val_accuracy: 0.9844 - lr: 3.6788e-04\n",
      "Epoch 21/30\n",
      "1719/1719 [==============================] - 3s 2ms/step - loss: 3.6541e-04 - accuracy: 0.9999 - val_loss: 0.0966 - val_accuracy: 0.9856 - lr: 3.3287e-04\n",
      "Epoch 22/30\n",
      "1719/1719 [==============================] - 3s 2ms/step - loss: 2.3770e-04 - accuracy: 0.9999 - val_loss: 0.0914 - val_accuracy: 0.9862 - lr: 3.0119e-04\n",
      "Epoch 23/30\n",
      "1719/1719 [==============================] - 3s 2ms/step - loss: 1.4786e-04 - accuracy: 0.9999 - val_loss: 0.0977 - val_accuracy: 0.9844 - lr: 2.7253e-04\n",
      "Epoch 24/30\n",
      "1719/1719 [==============================] - 3s 2ms/step - loss: 9.9852e-05 - accuracy: 1.0000 - val_loss: 0.0973 - val_accuracy: 0.9848 - lr: 2.4660e-04\n",
      "Epoch 25/30\n",
      "1719/1719 [==============================] - 4s 2ms/step - loss: 1.3058e-04 - accuracy: 0.9999 - val_loss: 0.0989 - val_accuracy: 0.9854 - lr: 2.2313e-04\n",
      "Epoch 26/30\n",
      "1719/1719 [==============================] - 3s 2ms/step - loss: 6.3012e-05 - accuracy: 1.0000 - val_loss: 0.0988 - val_accuracy: 0.9852 - lr: 2.0190e-04\n",
      "Epoch 27/30\n",
      "1719/1719 [==============================] - 3s 2ms/step - loss: 6.0064e-05 - accuracy: 1.0000 - val_loss: 0.1017 - val_accuracy: 0.9850 - lr: 1.8268e-04\n",
      "Epoch 28/30\n",
      "1719/1719 [==============================] - 4s 2ms/step - loss: 5.8700e-05 - accuracy: 1.0000 - val_loss: 0.1003 - val_accuracy: 0.9856 - lr: 1.6530e-04\n",
      "Epoch 29/30\n",
      "1719/1719 [==============================] - 3s 2ms/step - loss: 5.7822e-05 - accuracy: 1.0000 - val_loss: 0.0988 - val_accuracy: 0.9858 - lr: 1.4957e-04\n",
      "Epoch 30/30\n",
      "1719/1719 [==============================] - 3s 2ms/step - loss: 5.7000e-05 - accuracy: 1.0000 - val_loss: 0.1010 - val_accuracy: 0.9848 - lr: 1.3534e-04\n"
     ]
    },
    {
     "data": {
      "text/plain": [
       "<matplotlib.axes._subplots.AxesSubplot at 0x20806831948>"
      ]
     },
     "execution_count": 27,
     "metadata": {},
     "output_type": "execute_result"
    },
    {
     "data": {
      "image/png": "[encoded data removed]",
      "text/plain": [
       "<Figure size 720x576 with 1 Axes>"
      ]
     },
     "metadata": {
      "needs_background": "light"
     },
     "output_type": "display_data"
    }
   ],
   "source": [
    "# Reference for the below model has been taken from page no 295 of the book\n",
    "# Hands-On-Machine-Learning-with-Scikit-Learn-Keras-and-Tensorflow_-Concepts-Tools-and-Techniques-to-Build-Intelligent-Systems-O’Reilly-Media-2019\n",
    "\n",
    "# Using Adam() as the optimiser\n",
    "\n",
    "# Initialising a Sequential model\n",
    "model_3 = keras.models.Sequential()\n",
    "\n",
    "# Adding a Flatten layer that converts every 28x28 matrix into a 1D array input of 784 values\n",
    "model_3.add(keras.layers.Flatten(input_shape=[28, 28]))\n",
    "\n",
    "# Adding a Dense layer of 300 neurons with relu as the activation function\n",
    "model_3.add(keras.layers.Dense(300,  activation=\"relu\"))\n",
    "\n",
    "# Adding a second Dense layer of 100 neurons with relu as the activation function\n",
    "model_3.add(keras.layers.Dense(100, activation=\"relu\"))\n",
    "\n",
    "# Adding the output layer containing 10 neurons, one for each class label between 0-9 with softmax as the activation function\n",
    "model_3.add(keras.layers.Dense(10, activation=\"sigmoid\"))\n",
    "\n",
    "# Writing a custom scheduler that exponentially reduces the learning rate exponentially after 10 epochs. \n",
    "# source of the below function - https://www.tensorflow.org/api_docs/python/tf/keras/callbacks/LearningRateScheduler\n",
    "def scheduler(epoch, lr):\n",
    "    if epoch < 10:\n",
    "        return lr\n",
    "    else:\n",
    "        return lr * np.math.exp(-0.1)\n",
    "\n",
    "\n",
    "# Compiling the model\n",
    "model_3.compile(optimizer=keras.optimizers.Adam(), \n",
    "              loss='sparse_categorical_crossentropy',\n",
    "              metrics=['accuracy'])\n",
    "\n",
    "# Fitting the model on the data\n",
    "history_adam = model_3.fit(X_train, y_train, epochs=30, validation_data=(X_val, y_val), callbacks=[keras.callbacks.LearningRateScheduler(scheduler)])\n",
    "\n",
    "# Plotting the loss, accuracy, validation loss, validation accuracy\n",
    "pd.DataFrame(history_adam.history).plot(figsize=(10, 8))"
   ]
  },
  {
   "cell_type": "markdown",
   "metadata": {},
   "source": [
    "Using Adam Optimiser the accuracy has almost reached 1.00 on the training data and 0.98 on the validation data and the losses are also pretty low"
   ]
  },
  {
   "cell_type": "code",
   "execution_count": 31,
   "metadata": {},
   "outputs": [
    {
     "name": "stdout",
     "output_type": "stream",
     "text": [
      "Epoch 1/30\n",
      "1719/1719 [==============================] - 4s 2ms/step - loss: 0.2364 - accuracy: 0.9303 - val_loss: 0.1030 - val_accuracy: 0.9662 - lr: 0.0010\n",
      "Epoch 2/30\n",
      "1719/1719 [==============================] - 4s 2ms/step - loss: 0.1020 - accuracy: 0.9705 - val_loss: 0.0946 - val_accuracy: 0.9734 - lr: 0.0010\n",
      "Epoch 3/30\n",
      "1719/1719 [==============================] - 4s 2ms/step - loss: 0.0751 - accuracy: 0.9789 - val_loss: 0.0856 - val_accuracy: 0.9788 - lr: 0.0010\n",
      "Epoch 4/30\n",
      "1719/1719 [==============================] - 4s 3ms/step - loss: 0.0575 - accuracy: 0.9832 - val_loss: 0.0809 - val_accuracy: 0.9784 - lr: 0.0010\n",
      "Epoch 5/30\n",
      "1719/1719 [==============================] - 5s 3ms/step - loss: 0.0472 - accuracy: 0.9870 - val_loss: 0.1196 - val_accuracy: 0.9728 - lr: 0.0010\n",
      "Epoch 6/30\n",
      "1719/1719 [==============================] - 3s 2ms/step - loss: 0.0383 - accuracy: 0.9896 - val_loss: 0.0992 - val_accuracy: 0.9782 - lr: 0.0010\n",
      "Epoch 7/30\n",
      "1719/1719 [==============================] - 4s 3ms/step - loss: 0.0310 - accuracy: 0.9915 - val_loss: 0.0996 - val_accuracy: 0.9800 - lr: 0.0010\n",
      "Epoch 8/30\n",
      "1719/1719 [==============================] - 3s 2ms/step - loss: 0.0252 - accuracy: 0.9930 - val_loss: 0.0881 - val_accuracy: 0.9812 - lr: 0.0010\n",
      "Epoch 9/30\n",
      "1719/1719 [==============================] - 3s 2ms/step - loss: 0.0229 - accuracy: 0.9939 - val_loss: 0.1187 - val_accuracy: 0.9774 - lr: 0.0010\n",
      "Epoch 10/30\n",
      "1719/1719 [==============================] - 3s 2ms/step - loss: 0.0191 - accuracy: 0.9947 - val_loss: 0.1181 - val_accuracy: 0.9802 - lr: 0.0010\n",
      "Epoch 11/30\n",
      "1719/1719 [==============================] - 3s 2ms/step - loss: 0.0144 - accuracy: 0.9964 - val_loss: 0.1159 - val_accuracy: 0.9808 - lr: 9.0484e-04\n",
      "Epoch 12/30\n",
      "1719/1719 [==============================] - 3s 2ms/step - loss: 0.0103 - accuracy: 0.9973 - val_loss: 0.1191 - val_accuracy: 0.9802 - lr: 8.1873e-04\n",
      "Epoch 13/30\n",
      "1719/1719 [==============================] - 3s 2ms/step - loss: 0.0062 - accuracy: 0.9983 - val_loss: 0.1173 - val_accuracy: 0.9818 - lr: 7.4082e-04\n",
      "Epoch 14/30\n",
      "1719/1719 [==============================] - 3s 2ms/step - loss: 0.0051 - accuracy: 0.9985 - val_loss: 0.1152 - val_accuracy: 0.9832 - lr: 6.7032e-04\n",
      "Epoch 15/30\n",
      "1719/1719 [==============================] - 3s 2ms/step - loss: 0.0038 - accuracy: 0.9990 - val_loss: 0.1201 - val_accuracy: 0.9822 - lr: 6.0653e-04\n",
      "Epoch 16/30\n",
      "1719/1719 [==============================] - 4s 2ms/step - loss: 0.0027 - accuracy: 0.9993 - val_loss: 0.1318 - val_accuracy: 0.9816 - lr: 5.4881e-04\n",
      "Epoch 17/30\n",
      "1719/1719 [==============================] - 3s 2ms/step - loss: 0.0024 - accuracy: 0.9993 - val_loss: 0.1301 - val_accuracy: 0.9818 - lr: 4.9659e-04\n",
      "Epoch 18/30\n",
      "1719/1719 [==============================] - 4s 3ms/step - loss: 0.0015 - accuracy: 0.9995 - val_loss: 0.1337 - val_accuracy: 0.9824 - lr: 4.4933e-04\n",
      "Epoch 19/30\n",
      "1719/1719 [==============================] - 3s 2ms/step - loss: 0.0015 - accuracy: 0.9996 - val_loss: 0.1403 - val_accuracy: 0.9814 - lr: 4.0657e-04\n",
      "Epoch 20/30\n",
      "1719/1719 [==============================] - 4s 2ms/step - loss: 0.0013 - accuracy: 0.9996 - val_loss: 0.1425 - val_accuracy: 0.9822 - lr: 3.6788e-04\n",
      "Epoch 21/30\n",
      "1719/1719 [==============================] - 3s 2ms/step - loss: 0.0011 - accuracy: 0.9996 - val_loss: 0.1400 - val_accuracy: 0.9828 - lr: 3.3287e-04\n",
      "Epoch 22/30\n",
      "1719/1719 [==============================] - 3s 2ms/step - loss: 9.8663e-04 - accuracy: 0.9996 - val_loss: 0.1422 - val_accuracy: 0.9822 - lr: 3.0119e-04\n",
      "Epoch 23/30\n",
      "1719/1719 [==============================] - 4s 2ms/step - loss: 9.1887e-04 - accuracy: 0.9996 - val_loss: 0.1446 - val_accuracy: 0.9822 - lr: 2.7253e-04\n",
      "Epoch 24/30\n",
      "1719/1719 [==============================] - 3s 2ms/step - loss: 8.9183e-04 - accuracy: 0.9997 - val_loss: 0.1425 - val_accuracy: 0.9834 - lr: 2.4660e-04\n",
      "Epoch 25/30\n",
      "1719/1719 [==============================] - 3s 2ms/step - loss: 8.1258e-04 - accuracy: 0.9997 - val_loss: 0.1423 - val_accuracy: 0.9832 - lr: 2.2313e-04\n",
      "Epoch 26/30\n",
      "1719/1719 [==============================] - 4s 2ms/step - loss: 8.5554e-04 - accuracy: 0.9997 - val_loss: 0.1461 - val_accuracy: 0.9824 - lr: 2.0190e-04\n",
      "Epoch 27/30\n",
      "1719/1719 [==============================] - 3s 2ms/step - loss: 8.1142e-04 - accuracy: 0.9997 - val_loss: 0.1446 - val_accuracy: 0.9828 - lr: 1.8268e-04\n",
      "Epoch 28/30\n",
      "1719/1719 [==============================] - 3s 2ms/step - loss: 8.1000e-04 - accuracy: 0.9997 - val_loss: 0.1451 - val_accuracy: 0.9830 - lr: 1.6530e-04\n",
      "Epoch 29/30\n",
      "1719/1719 [==============================] - 3s 2ms/step - loss: 8.0523e-04 - accuracy: 0.9997 - val_loss: 0.1468 - val_accuracy: 0.9826 - lr: 1.4957e-04\n",
      "Epoch 30/30\n",
      "1719/1719 [==============================] - 3s 2ms/step - loss: 7.9760e-04 - accuracy: 0.9997 - val_loss: 0.1463 - val_accuracy: 0.9826 - lr: 1.3534e-04\n"
     ]
    },
    {
     "data": {
      "text/plain": [
       "<matplotlib.axes._subplots.AxesSubplot at 0x2098d260608>"
      ]
     },
     "execution_count": 31,
     "metadata": {},
     "output_type": "execute_result"
    },
    {
     "data": {
      "image/png": "[encoded data removed]",
      "text/plain": [
       "<Figure size 720x576 with 1 Axes>"
      ]
     },
     "metadata": {
      "needs_background": "light"
     },
     "output_type": "display_data"
    }
   ],
   "source": [
    "# Reference for the below model has been taken from page no 295 of the book\n",
    "# Hands-On-Machine-Learning-with-Scikit-Learn-Keras-and-Tensorflow_-Concepts-Tools-and-Techniques-to-Build-Intelligent-Systems-O’Reilly-Media-2019\n",
    "\n",
    "# Using RMSProp() as the optimiser\n",
    "\n",
    "# Initialising a Sequential model\n",
    "model_4 = keras.models.Sequential()\n",
    "\n",
    "# Adding a Flatten layer that converts every 28x28 matrix into a 1D array input of 784 values\n",
    "model_4.add(keras.layers.Flatten(input_shape=[28, 28]))\n",
    "\n",
    "# Adding a Dense layer of 300 neurons with relu as the activation function\n",
    "model_4.add(keras.layers.Dense(300,  activation=\"relu\"))\n",
    "\n",
    "# Adding a second Dense layer of 100 neurons with relu as the activation function\n",
    "model_4.add(keras.layers.Dense(100, activation=\"relu\"))\n",
    "\n",
    "# Adding the output layer containing 10 neurons, one for each class label between 0-9 with softmax as the activation function\n",
    "model_4.add(keras.layers.Dense(10, activation=\"sigmoid\"))\n",
    "\n",
    "# Writing a custom scheduler that exponentially reduces the learning rate exponentially after 10 epochs. \n",
    "# source of the below function - https://www.tensorflow.org/api_docs/python/tf/keras/callbacks/LearningRateScheduler\n",
    "def scheduler(epoch, lr):\n",
    "    if epoch < 10:\n",
    "        return lr\n",
    "    else:\n",
    "        return lr * np.math.exp(-0.1)\n",
    "\n",
    "\n",
    "# Compiling the model\n",
    "model_4.compile(optimizer=keras.optimizers.RMSprop(), \n",
    "              loss='sparse_categorical_crossentropy',\n",
    "              metrics=['accuracy'])\n",
    "\n",
    "# Fitting the model on the data\n",
    "history_rmsprop = model_4.fit(X_train, y_train, epochs=30, validation_data=(X_val, y_val), callbacks=[keras.callbacks.LearningRateScheduler(scheduler)])\n",
    "\n",
    "# Plotting the loss, accuracy, validation loss, validation accuracy\n",
    "pd.DataFrame(history_rmsprop.history).plot(figsize=(10, 8))"
   ]
  },
  {
   "cell_type": "markdown",
   "metadata": {},
   "source": [
    "RMSprop() also performs better compared to SGD() in terms of accuracy on the validation data"
   ]
  },
  {
   "cell_type": "code",
   "execution_count": 28,
   "metadata": {},
   "outputs": [
    {
     "name": "stdout",
     "output_type": "stream",
     "text": [
      "Epoch 1/30\n",
      "1719/1719 [==============================] - 3s 2ms/step - loss: 1.4509 - accuracy: 0.6898 - val_loss: 0.6820 - val_accuracy: 0.8594 - lr: 0.0010\n",
      "Epoch 2/30\n",
      "1719/1719 [==============================] - 3s 2ms/step - loss: 0.5488 - accuracy: 0.8674 - val_loss: 0.4397 - val_accuracy: 0.8918 - lr: 0.0010\n",
      "Epoch 3/30\n",
      "1719/1719 [==============================] - 3s 2ms/step - loss: 0.4213 - accuracy: 0.8908 - val_loss: 0.3698 - val_accuracy: 0.9038 - lr: 0.0010\n",
      "Epoch 4/30\n",
      "1719/1719 [==============================] - 3s 2ms/step - loss: 0.3712 - accuracy: 0.9005 - val_loss: 0.3348 - val_accuracy: 0.9120 - lr: 0.0010\n",
      "Epoch 5/30\n",
      "1719/1719 [==============================] - 3s 2ms/step - loss: 0.3420 - accuracy: 0.9065 - val_loss: 0.3119 - val_accuracy: 0.9192 - lr: 0.0010\n",
      "Epoch 6/30\n",
      "1719/1719 [==============================] - 3s 2ms/step - loss: 0.3216 - accuracy: 0.9124 - val_loss: 0.2952 - val_accuracy: 0.9214 - lr: 0.0010\n",
      "Epoch 7/30\n",
      "1719/1719 [==============================] - 2s 1ms/step - loss: 0.3057 - accuracy: 0.9162 - val_loss: 0.2822 - val_accuracy: 0.9262 - lr: 0.0010\n",
      "Epoch 8/30\n",
      "1719/1719 [==============================] - 2s 1ms/step - loss: 0.2929 - accuracy: 0.9190 - val_loss: 0.2713 - val_accuracy: 0.9280 - lr: 0.0010\n",
      "Epoch 9/30\n",
      "1719/1719 [==============================] - 2s 1ms/step - loss: 0.2823 - accuracy: 0.9221 - val_loss: 0.2624 - val_accuracy: 0.9308 - lr: 0.0010\n",
      "Epoch 10/30\n",
      "1719/1719 [==============================] - 3s 2ms/step - loss: 0.2728 - accuracy: 0.9243 - val_loss: 0.2548 - val_accuracy: 0.9328 - lr: 0.0010\n",
      "Epoch 11/30\n",
      "1719/1719 [==============================] - 2s 1ms/step - loss: 0.2649 - accuracy: 0.9262 - val_loss: 0.2479 - val_accuracy: 0.9342 - lr: 9.0484e-04\n",
      "Epoch 12/30\n",
      "1719/1719 [==============================] - 2s 1ms/step - loss: 0.2585 - accuracy: 0.9283 - val_loss: 0.2429 - val_accuracy: 0.9358 - lr: 8.1873e-04\n",
      "Epoch 13/30\n",
      "1719/1719 [==============================] - 2s 1ms/step - loss: 0.2530 - accuracy: 0.9301 - val_loss: 0.2384 - val_accuracy: 0.9366 - lr: 7.4082e-04\n",
      "Epoch 14/30\n",
      "1719/1719 [==============================] - 3s 2ms/step - loss: 0.2487 - accuracy: 0.9315 - val_loss: 0.2349 - val_accuracy: 0.9370 - lr: 6.7032e-04\n",
      "Epoch 15/30\n",
      "1719/1719 [==============================] - 2s 1ms/step - loss: 0.2448 - accuracy: 0.9321 - val_loss: 0.2318 - val_accuracy: 0.9370 - lr: 6.0653e-04\n",
      "Epoch 16/30\n",
      "1719/1719 [==============================] - 2s 1ms/step - loss: 0.2416 - accuracy: 0.9327 - val_loss: 0.2295 - val_accuracy: 0.9372 - lr: 5.4881e-04\n",
      "Epoch 17/30\n",
      "1719/1719 [==============================] - 2s 1ms/step - loss: 0.2389 - accuracy: 0.9334 - val_loss: 0.2269 - val_accuracy: 0.9392 - lr: 4.9659e-04\n",
      "Epoch 18/30\n",
      "1719/1719 [==============================] - 3s 2ms/step - loss: 0.2365 - accuracy: 0.9342 - val_loss: 0.2250 - val_accuracy: 0.9394 - lr: 4.4933e-04\n",
      "Epoch 19/30\n",
      "1719/1719 [==============================] - 3s 2ms/step - loss: 0.2344 - accuracy: 0.9350 - val_loss: 0.2232 - val_accuracy: 0.9398 - lr: 4.0657e-04\n",
      "Epoch 20/30\n",
      "1719/1719 [==============================] - 3s 2ms/step - loss: 0.2325 - accuracy: 0.9354 - val_loss: 0.2217 - val_accuracy: 0.9398 - lr: 3.6788e-04\n",
      "Epoch 21/30\n",
      "1719/1719 [==============================] - 3s 2ms/step - loss: 0.2310 - accuracy: 0.9357 - val_loss: 0.2204 - val_accuracy: 0.9400 - lr: 3.3287e-04\n",
      "Epoch 22/30\n",
      "1719/1719 [==============================] - 2s 1ms/step - loss: 0.2296 - accuracy: 0.9363 - val_loss: 0.2193 - val_accuracy: 0.9402 - lr: 3.0119e-04\n",
      "Epoch 23/30\n",
      "1719/1719 [==============================] - 3s 2ms/step - loss: 0.2284 - accuracy: 0.9365 - val_loss: 0.2184 - val_accuracy: 0.9404 - lr: 2.7253e-04\n",
      "Epoch 24/30\n",
      "1719/1719 [==============================] - 3s 1ms/step - loss: 0.2273 - accuracy: 0.9367 - val_loss: 0.2175 - val_accuracy: 0.9410 - lr: 2.4660e-04\n",
      "Epoch 25/30\n",
      "1719/1719 [==============================] - 2s 1ms/step - loss: 0.2264 - accuracy: 0.9370 - val_loss: 0.2167 - val_accuracy: 0.9410 - lr: 2.2313e-04\n",
      "Epoch 26/30\n",
      "1719/1719 [==============================] - 2s 1ms/step - loss: 0.2255 - accuracy: 0.9373 - val_loss: 0.2160 - val_accuracy: 0.9414 - lr: 2.0190e-04\n",
      "Epoch 27/30\n",
      "1719/1719 [==============================] - 3s 2ms/step - loss: 0.2248 - accuracy: 0.9374 - val_loss: 0.2154 - val_accuracy: 0.9414 - lr: 1.8268e-04\n",
      "Epoch 28/30\n",
      "1719/1719 [==============================] - 2s 1ms/step - loss: 0.2242 - accuracy: 0.9377 - val_loss: 0.2149 - val_accuracy: 0.9416 - lr: 1.6530e-04\n",
      "Epoch 29/30\n",
      "1719/1719 [==============================] - 2s 1ms/step - loss: 0.2236 - accuracy: 0.9376 - val_loss: 0.2144 - val_accuracy: 0.9414 - lr: 1.4957e-04\n",
      "Epoch 30/30\n",
      "1719/1719 [==============================] - 2s 1ms/step - loss: 0.2231 - accuracy: 0.9379 - val_loss: 0.2140 - val_accuracy: 0.9418 - lr: 1.3534e-04\n"
     ]
    },
    {
     "data": {
      "text/plain": [
       "<matplotlib.axes._subplots.AxesSubplot at 0x241c84d2588>"
      ]
     },
     "execution_count": 28,
     "metadata": {},
     "output_type": "execute_result"
    },
    {
     "data": {
      "image/png": "[encoded data removed]",
      "text/plain": [
       "<Figure size 720x576 with 1 Axes>"
      ]
     },
     "metadata": {
      "needs_background": "light"
     },
     "output_type": "display_data"
    }
   ],
   "source": [
    "# Reference for the below model has been taken from page no 295 of the book\n",
    "# Hands-On-Machine-Learning-with-Scikit-Learn-Keras-and-Tensorflow_-Concepts-Tools-and-Techniques-to-Build-Intelligent-Systems-O’Reilly-Media-2019\n",
    "\n",
    "# Using adgrad optimiser\n",
    "\n",
    "# Initialising a Sequential model\n",
    "model_5 = keras.models.Sequential()\n",
    "\n",
    "# Adding a Flatten layer that converts every 28x28 matrix into a 1D array input of 784 values\n",
    "model_5.add(keras.layers.Flatten(input_shape=[28, 28]))\n",
    "\n",
    "# Adding a Dense layer of 300 neurons with relu as the activation function\n",
    "model_5.add(keras.layers.Dense(300,  activation=\"relu\"))\n",
    "\n",
    "# Adding a second Dense layer of 100 neurons with relu as the activation function\n",
    "model_5.add(keras.layers.Dense(100, activation=\"relu\"))\n",
    "\n",
    "# Adding the output layer containing 10 neurons, one for each class label between 0-9 with softmax as the activation function\n",
    "model_5.add(keras.layers.Dense(10, activation=\"sigmoid\"))\n",
    "\n",
    "# Writing a custom scheduler that exponentially reduces the learning rate exponentially after 10 epochs. \n",
    "# source of the below function - https://www.tensorflow.org/api_docs/python/tf/keras/callbacks/LearningRateScheduler\n",
    "def scheduler(epoch, lr):\n",
    "    if epoch < 10:\n",
    "        return lr\n",
    "    else:\n",
    "        return lr * np.math.exp(-0.1)\n",
    "\n",
    "\n",
    "# Compiling the model\n",
    "model_5.compile(optimizer=keras.optimizers.Adagrad(), \n",
    "              loss='sparse_categorical_crossentropy',\n",
    "              metrics=['accuracy'])\n",
    "\n",
    "# Fitting the model on the data\n",
    "history_adagrad = model_5.fit(X_train, y_train, epochs=30, validation_data=(X_val, y_val), callbacks=[keras.callbacks.LearningRateScheduler(scheduler)])\n",
    "\n",
    "# Plotting the loss, accuracy, validation loss, validation accuracy\n",
    "pd.DataFrame(history_adagrad.history).plot(figsize=(10, 8))"
   ]
  },
  {
   "cell_type": "markdown",
   "metadata": {},
   "source": [
    "Adagrad() optimiser has given the lowest accuracy so far amongst all the optimisers"
   ]
  },
  {
   "cell_type": "markdown",
   "metadata": {},
   "source": [
    "## Step 9 - Use earlystoppping() when the desired metric has stopped improving"
   ]
  },
  {
   "cell_type": "code",
   "execution_count": 30,
   "metadata": {
    "scrolled": false
   },
   "outputs": [
    {
     "name": "stdout",
     "output_type": "stream",
     "text": [
      "Epoch 1/100\n",
      "1719/1719 [==============================] - 4s 2ms/step - loss: 0.8857 - accuracy: 0.7811 - val_loss: 0.3586 - val_accuracy: 0.9030 - lr: 0.0089\n",
      "Epoch 2/100\n",
      "1719/1719 [==============================] - 2s 1ms/step - loss: 0.3227 - accuracy: 0.9080 - val_loss: 0.2786 - val_accuracy: 0.9200 - lr: 0.0079\n",
      "Epoch 3/100\n",
      "1719/1719 [==============================] - 2s 1ms/step - loss: 0.2688 - accuracy: 0.9238 - val_loss: 0.2413 - val_accuracy: 0.9324 - lr: 0.0071\n",
      "Epoch 4/100\n",
      "1719/1719 [==============================] - 3s 1ms/step - loss: 0.2375 - accuracy: 0.9322 - val_loss: 0.2170 - val_accuracy: 0.9426 - lr: 0.0063\n",
      "Epoch 5/100\n",
      "1719/1719 [==============================] - 2s 1ms/step - loss: 0.2150 - accuracy: 0.9385 - val_loss: 0.1998 - val_accuracy: 0.9474 - lr: 0.0056\n",
      "Epoch 6/100\n",
      "1719/1719 [==============================] - 2s 1ms/step - loss: 0.1983 - accuracy: 0.9439 - val_loss: 0.1858 - val_accuracy: 0.9496 - lr: 0.0050\n",
      "Epoch 7/100\n",
      "1719/1719 [==============================] - 2s 1ms/step - loss: 0.1850 - accuracy: 0.9478 - val_loss: 0.1752 - val_accuracy: 0.9530 - lr: 0.0045\n",
      "Epoch 8/100\n",
      "1719/1719 [==============================] - 2s 1ms/step - loss: 0.1749 - accuracy: 0.9498 - val_loss: 0.1684 - val_accuracy: 0.9548 - lr: 0.0040\n",
      "Epoch 9/100\n",
      "1719/1719 [==============================] - 2s 1ms/step - loss: 0.1665 - accuracy: 0.9528 - val_loss: 0.1629 - val_accuracy: 0.9578 - lr: 0.0035\n",
      "Epoch 10/100\n",
      "1719/1719 [==============================] - 2s 1ms/step - loss: 0.1598 - accuracy: 0.9548 - val_loss: 0.1589 - val_accuracy: 0.9592 - lr: 0.0032\n",
      "Epoch 11/100\n",
      "1719/1719 [==============================] - 2s 1ms/step - loss: 0.1542 - accuracy: 0.9564 - val_loss: 0.1544 - val_accuracy: 0.9596 - lr: 0.0028\n",
      "Epoch 12/100\n",
      "1719/1719 [==============================] - 3s 1ms/step - loss: 0.1493 - accuracy: 0.9578 - val_loss: 0.1499 - val_accuracy: 0.9622 - lr: 0.0025\n",
      "Epoch 13/100\n",
      "1719/1719 [==============================] - 2s 1ms/step - loss: 0.1453 - accuracy: 0.9588 - val_loss: 0.1494 - val_accuracy: 0.9598 - lr: 0.0022\n",
      "Epoch 14/100\n",
      "1719/1719 [==============================] - 2s 1ms/step - loss: 0.1418 - accuracy: 0.9604 - val_loss: 0.1458 - val_accuracy: 0.9604 - lr: 0.0020\n",
      "Epoch 15/100\n",
      "1719/1719 [==============================] - 2s 1ms/step - loss: 0.1389 - accuracy: 0.9613 - val_loss: 0.1424 - val_accuracy: 0.9620 - lr: 0.0018\n",
      "Epoch 16/100\n",
      "1719/1719 [==============================] - 2s 1ms/step - loss: 0.1365 - accuracy: 0.9621 - val_loss: 0.1413 - val_accuracy: 0.9630 - lr: 0.0016\n",
      "Epoch 17/100\n",
      "1719/1719 [==============================] - 2s 1ms/step - loss: 0.1342 - accuracy: 0.9631 - val_loss: 0.1395 - val_accuracy: 0.9636 - lr: 0.0014\n",
      "Epoch 18/100\n",
      "1719/1719 [==============================] - 2s 1ms/step - loss: 0.1323 - accuracy: 0.9639 - val_loss: 0.1380 - val_accuracy: 0.9632 - lr: 0.0013\n",
      "Epoch 19/100\n",
      "1719/1719 [==============================] - 2s 1ms/step - loss: 0.1305 - accuracy: 0.9640 - val_loss: 0.1378 - val_accuracy: 0.9636 - lr: 0.0011\n",
      "Epoch 20/100\n",
      "1719/1719 [==============================] - 2s 1ms/step - loss: 0.1291 - accuracy: 0.9647 - val_loss: 0.1358 - val_accuracy: 0.9644 - lr: 1.0000e-03\n",
      "Epoch 21/100\n",
      "1719/1719 [==============================] - 2s 1ms/step - loss: 0.1278 - accuracy: 0.9648 - val_loss: 0.1352 - val_accuracy: 0.9634 - lr: 8.9125e-04\n",
      "Epoch 22/100\n",
      "1719/1719 [==============================] - 2s 1ms/step - loss: 0.1266 - accuracy: 0.9653 - val_loss: 0.1338 - val_accuracy: 0.9650 - lr: 7.9433e-04\n",
      "Epoch 23/100\n",
      "1719/1719 [==============================] - 2s 1ms/step - loss: 0.1257 - accuracy: 0.9657 - val_loss: 0.1336 - val_accuracy: 0.9646 - lr: 7.0795e-04\n",
      "Epoch 24/100\n",
      "1719/1719 [==============================] - 2s 1ms/step - loss: 0.1248 - accuracy: 0.9659 - val_loss: 0.1327 - val_accuracy: 0.9654 - lr: 6.3096e-04\n",
      "Epoch 25/100\n",
      "1719/1719 [==============================] - 2s 1ms/step - loss: 0.1240 - accuracy: 0.9659 - val_loss: 0.1323 - val_accuracy: 0.9648 - lr: 5.6234e-04\n",
      "Epoch 26/100\n",
      "1719/1719 [==============================] - 2s 1ms/step - loss: 0.1233 - accuracy: 0.9664 - val_loss: 0.1321 - val_accuracy: 0.9652 - lr: 5.0119e-04\n",
      "Epoch 27/100\n",
      "1719/1719 [==============================] - 2s 1ms/step - loss: 0.1228 - accuracy: 0.9665 - val_loss: 0.1316 - val_accuracy: 0.9640 - lr: 4.4668e-04\n",
      "Epoch 28/100\n",
      "1719/1719 [==============================] - 2s 1ms/step - loss: 0.1222 - accuracy: 0.9665 - val_loss: 0.1310 - val_accuracy: 0.9652 - lr: 3.9811e-04\n",
      "Epoch 29/100\n",
      "1719/1719 [==============================] - 2s 1ms/step - loss: 0.1217 - accuracy: 0.9669 - val_loss: 0.1308 - val_accuracy: 0.9658 - lr: 3.5481e-04\n",
      "Epoch 30/100\n",
      "1719/1719 [==============================] - 2s 1ms/step - loss: 0.1213 - accuracy: 0.9666 - val_loss: 0.1304 - val_accuracy: 0.9648 - lr: 3.1623e-04\n",
      "Epoch 31/100\n",
      "1719/1719 [==============================] - 2s 1ms/step - loss: 0.1209 - accuracy: 0.9670 - val_loss: 0.1304 - val_accuracy: 0.9656 - lr: 2.8184e-04\n",
      "Epoch 32/100\n",
      "1719/1719 [==============================] - 3s 1ms/step - loss: 0.1206 - accuracy: 0.9669 - val_loss: 0.1300 - val_accuracy: 0.9658 - lr: 2.5119e-04\n",
      "Epoch 33/100\n",
      "1719/1719 [==============================] - 3s 1ms/step - loss: 0.1203 - accuracy: 0.9671 - val_loss: 0.1298 - val_accuracy: 0.9658 - lr: 2.2387e-04\n",
      "Epoch 34/100\n",
      "1719/1719 [==============================] - 2s 1ms/step - loss: 0.1200 - accuracy: 0.9671 - val_loss: 0.1298 - val_accuracy: 0.9658 - lr: 1.9953e-04\n",
      "Epoch 35/100\n",
      "1719/1719 [==============================] - 2s 1ms/step - loss: 0.1198 - accuracy: 0.9673 - val_loss: 0.1295 - val_accuracy: 0.9656 - lr: 1.7783e-04\n",
      "Epoch 36/100\n",
      "1719/1719 [==============================] - 2s 1ms/step - loss: 0.1196 - accuracy: 0.9675 - val_loss: 0.1293 - val_accuracy: 0.9658 - lr: 1.5849e-04\n",
      "Epoch 37/100\n",
      "1719/1719 [==============================] - 2s 1ms/step - loss: 0.1194 - accuracy: 0.9675 - val_loss: 0.1293 - val_accuracy: 0.9652 - lr: 1.4125e-04\n",
      "Epoch 38/100\n",
      "1719/1719 [==============================] - 3s 2ms/step - loss: 0.1192 - accuracy: 0.9675 - val_loss: 0.1291 - val_accuracy: 0.9656 - lr: 1.2589e-04\n",
      "Epoch 39/100\n",
      "1719/1719 [==============================] - 3s 2ms/step - loss: 0.1191 - accuracy: 0.9675 - val_loss: 0.1290 - val_accuracy: 0.9660 - lr: 1.1220e-04\n",
      "Epoch 40/100\n",
      "1719/1719 [==============================] - 2s 1ms/step - loss: 0.1190 - accuracy: 0.9676 - val_loss: 0.1289 - val_accuracy: 0.9656 - lr: 1.0000e-04\n",
      "Epoch 41/100\n",
      "1719/1719 [==============================] - 2s 1ms/step - loss: 0.1189 - accuracy: 0.9677 - val_loss: 0.1288 - val_accuracy: 0.9656 - lr: 8.9125e-05\n",
      "Epoch 42/100\n",
      "1719/1719 [==============================] - 2s 1ms/step - loss: 0.1187 - accuracy: 0.9676 - val_loss: 0.1288 - val_accuracy: 0.9656 - lr: 7.9433e-05\n",
      "Epoch 43/100\n",
      "1719/1719 [==============================] - 2s 1ms/step - loss: 0.1187 - accuracy: 0.9676 - val_loss: 0.1287 - val_accuracy: 0.9656 - lr: 7.0795e-05\n",
      "Epoch 44/100\n",
      "1719/1719 [==============================] - 2s 1ms/step - loss: 0.1186 - accuracy: 0.9677 - val_loss: 0.1287 - val_accuracy: 0.9658 - lr: 6.3096e-05\n",
      "Epoch 45/100\n",
      "1719/1719 [==============================] - 2s 1ms/step - loss: 0.1185 - accuracy: 0.9678 - val_loss: 0.1287 - val_accuracy: 0.9658 - lr: 5.6234e-05\n",
      "Epoch 46/100\n",
      "1719/1719 [==============================] - 2s 1ms/step - loss: 0.1184 - accuracy: 0.9677 - val_loss: 0.1286 - val_accuracy: 0.9656 - lr: 5.0119e-05\n",
      "Epoch 47/100\n",
      "1719/1719 [==============================] - 2s 1ms/step - loss: 0.1184 - accuracy: 0.9677 - val_loss: 0.1286 - val_accuracy: 0.9658 - lr: 4.4668e-05\n",
      "Epoch 48/100\n",
      "1719/1719 [==============================] - 2s 1ms/step - loss: 0.1183 - accuracy: 0.9679 - val_loss: 0.1285 - val_accuracy: 0.9656 - lr: 3.9811e-05\n",
      "Epoch 49/100\n",
      "1719/1719 [==============================] - 2s 1ms/step - loss: 0.1183 - accuracy: 0.9678 - val_loss: 0.1285 - val_accuracy: 0.9656 - lr: 3.5481e-05\n",
      "Epoch 50/100\n",
      "1719/1719 [==============================] - 3s 2ms/step - loss: 0.1182 - accuracy: 0.9677 - val_loss: 0.1285 - val_accuracy: 0.9656 - lr: 3.1623e-05\n",
      "Epoch 51/100\n",
      "1719/1719 [==============================] - 2s 1ms/step - loss: 0.1182 - accuracy: 0.9677 - val_loss: 0.1284 - val_accuracy: 0.9656 - lr: 2.8184e-05\n"
     ]
    },
    {
     "name": "stdout",
     "output_type": "stream",
     "text": [
      "Epoch 52/100\n",
      "1719/1719 [==============================] - 2s 1ms/step - loss: 0.1182 - accuracy: 0.9678 - val_loss: 0.1284 - val_accuracy: 0.9656 - lr: 2.5119e-05\n",
      "Epoch 53/100\n",
      "1719/1719 [==============================] - 2s 1ms/step - loss: 0.1181 - accuracy: 0.9678 - val_loss: 0.1284 - val_accuracy: 0.9656 - lr: 2.2387e-05\n",
      "Epoch 54/100\n",
      "1719/1719 [==============================] - 3s 2ms/step - loss: 0.1181 - accuracy: 0.9678 - val_loss: 0.1284 - val_accuracy: 0.9656 - lr: 1.9953e-05\n",
      "Epoch 55/100\n",
      "1719/1719 [==============================] - 3s 2ms/step - loss: 0.1181 - accuracy: 0.9679 - val_loss: 0.1284 - val_accuracy: 0.9656 - lr: 1.7783e-05\n",
      "Epoch 56/100\n",
      "1719/1719 [==============================] - 2s 1ms/step - loss: 0.1181 - accuracy: 0.9678 - val_loss: 0.1283 - val_accuracy: 0.9656 - lr: 1.5849e-05\n",
      "Epoch 57/100\n",
      "1719/1719 [==============================] - 2s 1ms/step - loss: 0.1180 - accuracy: 0.9678 - val_loss: 0.1283 - val_accuracy: 0.9656 - lr: 1.4125e-05\n",
      "Epoch 58/100\n",
      "1719/1719 [==============================] - 2s 1ms/step - loss: 0.1180 - accuracy: 0.9679 - val_loss: 0.1283 - val_accuracy: 0.9656 - lr: 1.2589e-05\n",
      "Epoch 59/100\n",
      "1719/1719 [==============================] - 2s 1ms/step - loss: 0.1180 - accuracy: 0.9679 - val_loss: 0.1283 - val_accuracy: 0.9656 - lr: 1.1220e-05\n",
      "Epoch 60/100\n",
      "1719/1719 [==============================] - 3s 2ms/step - loss: 0.1180 - accuracy: 0.9678 - val_loss: 0.1283 - val_accuracy: 0.9656 - lr: 1.0000e-05\n",
      "Epoch 61/100\n",
      "1719/1719 [==============================] - 2s 1ms/step - loss: 0.1180 - accuracy: 0.9679 - val_loss: 0.1283 - val_accuracy: 0.9656 - lr: 8.9125e-06\n",
      "Epoch 62/100\n",
      "1719/1719 [==============================] - 2s 1ms/step - loss: 0.1180 - accuracy: 0.9678 - val_loss: 0.1283 - val_accuracy: 0.9656 - lr: 7.9433e-06\n",
      "Epoch 63/100\n",
      "1719/1719 [==============================] - 2s 1ms/step - loss: 0.1180 - accuracy: 0.9679 - val_loss: 0.1283 - val_accuracy: 0.9656 - lr: 7.0795e-06\n",
      "Epoch 64/100\n",
      "1719/1719 [==============================] - 3s 1ms/step - loss: 0.1180 - accuracy: 0.9679 - val_loss: 0.1283 - val_accuracy: 0.9656 - lr: 6.3096e-06\n",
      "Epoch 65/100\n",
      "1719/1719 [==============================] - 3s 1ms/step - loss: 0.1179 - accuracy: 0.9679 - val_loss: 0.1283 - val_accuracy: 0.9656 - lr: 5.6234e-06\n",
      "Epoch 66/100\n",
      "1719/1719 [==============================] - 2s 1ms/step - loss: 0.1179 - accuracy: 0.9679 - val_loss: 0.1283 - val_accuracy: 0.9656 - lr: 5.0119e-06\n",
      "Epoch 67/100\n",
      "1719/1719 [==============================] - 2s 1ms/step - loss: 0.1179 - accuracy: 0.9679 - val_loss: 0.1283 - val_accuracy: 0.9656 - lr: 4.4668e-06\n",
      "Epoch 68/100\n",
      "1719/1719 [==============================] - 2s 1ms/step - loss: 0.1179 - accuracy: 0.9679 - val_loss: 0.1283 - val_accuracy: 0.9656 - lr: 3.9811e-06\n",
      "Epoch 69/100\n",
      "1719/1719 [==============================] - 2s 1ms/step - loss: 0.1179 - accuracy: 0.9679 - val_loss: 0.1283 - val_accuracy: 0.9656 - lr: 3.5481e-06\n",
      "Epoch 70/100\n",
      "1719/1719 [==============================] - 2s 1ms/step - loss: 0.1179 - accuracy: 0.9679 - val_loss: 0.1283 - val_accuracy: 0.9656 - lr: 3.1623e-06\n",
      "Epoch 71/100\n",
      "1719/1719 [==============================] - 2s 1ms/step - loss: 0.1179 - accuracy: 0.9679 - val_loss: 0.1283 - val_accuracy: 0.9656 - lr: 2.8184e-06\n",
      "Epoch 72/100\n",
      "1719/1719 [==============================] - 2s 1ms/step - loss: 0.1179 - accuracy: 0.9679 - val_loss: 0.1283 - val_accuracy: 0.9656 - lr: 2.5119e-06\n",
      "Epoch 73/100\n",
      "1719/1719 [==============================] - 2s 1ms/step - loss: 0.1179 - accuracy: 0.9679 - val_loss: 0.1283 - val_accuracy: 0.9656 - lr: 2.2387e-06\n",
      "Epoch 74/100\n",
      "1719/1719 [==============================] - 2s 1ms/step - loss: 0.1179 - accuracy: 0.9679 - val_loss: 0.1283 - val_accuracy: 0.9656 - lr: 1.9953e-06\n",
      "Epoch 75/100\n",
      "1719/1719 [==============================] - 2s 1ms/step - loss: 0.1179 - accuracy: 0.9679 - val_loss: 0.1283 - val_accuracy: 0.9656 - lr: 1.7783e-06\n",
      "Epoch 76/100\n",
      "1719/1719 [==============================] - 2s 1ms/step - loss: 0.1179 - accuracy: 0.9679 - val_loss: 0.1283 - val_accuracy: 0.9656 - lr: 1.5849e-06\n",
      "Epoch 77/100\n",
      "1719/1719 [==============================] - 2s 1ms/step - loss: 0.1179 - accuracy: 0.9679 - val_loss: 0.1283 - val_accuracy: 0.9656 - lr: 1.4125e-06\n",
      "Epoch 78/100\n",
      "1719/1719 [==============================] - 2s 1ms/step - loss: 0.1179 - accuracy: 0.9679 - val_loss: 0.1283 - val_accuracy: 0.9656 - lr: 1.2589e-06\n",
      "Epoch 79/100\n",
      "1719/1719 [==============================] - 2s 1ms/step - loss: 0.1179 - accuracy: 0.9679 - val_loss: 0.1283 - val_accuracy: 0.9656 - lr: 1.1220e-06\n",
      "Epoch 80/100\n",
      "1719/1719 [==============================] - 2s 1ms/step - loss: 0.1179 - accuracy: 0.9679 - val_loss: 0.1283 - val_accuracy: 0.9656 - lr: 1.0000e-06\n",
      "Epoch 81/100\n",
      "1719/1719 [==============================] - 2s 1ms/step - loss: 0.1179 - accuracy: 0.9679 - val_loss: 0.1283 - val_accuracy: 0.9656 - lr: 8.9125e-07\n",
      "Epoch 82/100\n",
      "1719/1719 [==============================] - 2s 1ms/step - loss: 0.1179 - accuracy: 0.9679 - val_loss: 0.1282 - val_accuracy: 0.9656 - lr: 7.9433e-07\n",
      "Epoch 83/100\n",
      "1719/1719 [==============================] - 2s 1ms/step - loss: 0.1179 - accuracy: 0.9679 - val_loss: 0.1282 - val_accuracy: 0.9656 - lr: 7.0795e-07\n",
      "Epoch 84/100\n",
      "1719/1719 [==============================] - 2s 1ms/step - loss: 0.1179 - accuracy: 0.9679 - val_loss: 0.1282 - val_accuracy: 0.9656 - lr: 6.3096e-07\n",
      "Epoch 85/100\n",
      "1719/1719 [==============================] - 2s 1ms/step - loss: 0.1179 - accuracy: 0.9679 - val_loss: 0.1282 - val_accuracy: 0.9656 - lr: 5.6234e-07\n",
      "Epoch 86/100\n",
      "1719/1719 [==============================] - 2s 1ms/step - loss: 0.1179 - accuracy: 0.9679 - val_loss: 0.1282 - val_accuracy: 0.9656 - lr: 5.0119e-07\n",
      "Epoch 87/100\n",
      "1719/1719 [==============================] - 3s 2ms/step - loss: 0.1179 - accuracy: 0.9679 - val_loss: 0.1282 - val_accuracy: 0.9656 - lr: 4.4668e-07\n",
      "Epoch 88/100\n",
      "1719/1719 [==============================] - 2s 1ms/step - loss: 0.1179 - accuracy: 0.9679 - val_loss: 0.1282 - val_accuracy: 0.9656 - lr: 3.9811e-07\n",
      "Epoch 89/100\n",
      "1719/1719 [==============================] - 2s 1ms/step - loss: 0.1179 - accuracy: 0.9679 - val_loss: 0.1282 - val_accuracy: 0.9656 - lr: 3.5481e-07\n",
      "Epoch 90/100\n",
      "1719/1719 [==============================] - 2s 1ms/step - loss: 0.1179 - accuracy: 0.9679 - val_loss: 0.1282 - val_accuracy: 0.9656 - lr: 3.1623e-07\n",
      "Epoch 91/100\n",
      "1719/1719 [==============================] - 2s 1ms/step - loss: 0.1179 - accuracy: 0.9679 - val_loss: 0.1282 - val_accuracy: 0.9656 - lr: 2.8184e-07\n",
      "Epoch 00091: early stopping\n"
     ]
    }
   ],
   "source": [
    "# Reference for the below model has been taken from page no 312 of the book\n",
    "# Hands-On-Machine-Learning-with-Scikit-Learn-Keras-and-Tensorflow_-Concepts-Tools-and-Techniques-to-Build-Intelligent-Systems-O’Reilly-Media-2019\n",
    "\n",
    "# Initialising a Sequential model\n",
    "model = keras.models.Sequential()\n",
    "\n",
    "# Adding a Flatten layer that converts every 28x28 matrix into a 1D array input of 784 values\n",
    "model.add(keras.layers.Flatten(input_shape=[28, 28]))\n",
    "\n",
    "# Adding a Dense layer of 300 neurons with relu as the activation function\n",
    "model.add(keras.layers.Dense(300,  activation=\"relu\"))\n",
    "\n",
    "# Adding a second Dense layer of 100 neurons with relu as the activation function\n",
    "model.add(keras.layers.Dense(100, activation=\"relu\"))\n",
    "\n",
    "# Adding the output layer containing 10 neurons, one for each class label between 0-9 with softmax as the activation function\n",
    "model.add(keras.layers.Dense(10, activation=\"sigmoid\"))\n",
    "\n",
    "# Writing a custom scheduler that exponentially reduces the learning rate exponentially after 10 epochs. \n",
    "# source of the below function - https://www.tensorflow.org/api_docs/python/tf/keras/callbacks/LearningRateScheduler\n",
    "def scheduler(epoch, lr):\n",
    "    if epoch < 10:\n",
    "        return lr\n",
    "    else:\n",
    "        return lr * np.math.exp(-0.1)\n",
    "\n",
    "\n",
    "# Defining an early stopping instance with the validation loss as the value to be monitored and a patience level of three\n",
    "early_stopping = keras.callbacks.EarlyStopping(monitor='val_loss', patience=3, verbose=1, mode=\"auto\")\n",
    "\n",
    "\n",
    "# Compiling the model\n",
    "model.compile(optimizer=keras.optimizers.SGD(), \n",
    "              loss='sparse_categorical_crossentropy',\n",
    "              metrics=['accuracy'])\n",
    "\n",
    "# Fitting the model on the data. Choosing the number of epochs equal to 100\n",
    "history = model.fit(X_train, y_train, epochs=100, validation_data=(X_val, y_val), callbacks=[early_stopping, keras.callbacks.LearningRateScheduler(exponential_decay_fn)])"
   ]
  },
  {
   "cell_type": "markdown",
   "metadata": {},
   "source": [
    "We can see above that on using early stopping, the training got stopped after 91 epochs since there was no improvement in the validation loss for a few number of epochs"
   ]
  },
  {
   "cell_type": "markdown",
   "metadata": {},
   "source": [
    "## Step 10 - create checkpoint"
   ]
  },
  {
   "cell_type": "markdown",
   "metadata": {},
   "source": [
    "We shall use Adam() as the optimiser for creating a checkpoint of the model since it has given the highest accuracy amongst all the optimisers used"
   ]
  },
  {
   "cell_type": "code",
   "execution_count": 32,
   "metadata": {
    "scrolled": false
   },
   "outputs": [
    {
     "name": "stdout",
     "output_type": "stream",
     "text": [
      "Epoch 1/50\n",
      "1719/1719 [==============================] - 3s 1ms/step - loss: 0.2322 - accuracy: 0.9326 - val_loss: 0.1186 - val_accuracy: 0.9664 - lr: 0.0010\n",
      "Epoch 2/50\n",
      "1719/1719 [==============================] - 2s 1ms/step - loss: 0.0955 - accuracy: 0.9703 - val_loss: 0.0900 - val_accuracy: 0.9750 - lr: 0.0010\n",
      "Epoch 3/50\n",
      "1719/1719 [==============================] - 3s 2ms/step - loss: 0.0642 - accuracy: 0.9801 - val_loss: 0.0828 - val_accuracy: 0.9740 - lr: 0.0010\n",
      "Epoch 4/50\n",
      "1719/1719 [==============================] - 2s 1ms/step - loss: 0.0473 - accuracy: 0.9845 - val_loss: 0.0872 - val_accuracy: 0.9760 - lr: 0.0010\n",
      "Epoch 5/50\n",
      "1719/1719 [==============================] - 2s 1ms/step - loss: 0.0366 - accuracy: 0.9881 - val_loss: 0.0902 - val_accuracy: 0.9754 - lr: 0.0010\n",
      "Epoch 6/50\n",
      "1719/1719 [==============================] - 3s 2ms/step - loss: 0.0312 - accuracy: 0.9896 - val_loss: 0.0801 - val_accuracy: 0.9800 - lr: 0.0010\n",
      "Epoch 7/50\n",
      "1719/1719 [==============================] - 3s 1ms/step - loss: 0.0256 - accuracy: 0.9913 - val_loss: 0.0845 - val_accuracy: 0.9786 - lr: 0.0010\n",
      "Epoch 8/50\n",
      "1719/1719 [==============================] - 2s 1ms/step - loss: 0.0229 - accuracy: 0.9921 - val_loss: 0.0790 - val_accuracy: 0.9808 - lr: 0.0010\n",
      "Epoch 9/50\n",
      "1719/1719 [==============================] - 2s 1ms/step - loss: 0.0200 - accuracy: 0.9934 - val_loss: 0.0864 - val_accuracy: 0.9794 - lr: 0.0010\n",
      "Epoch 10/50\n",
      "1719/1719 [==============================] - 3s 2ms/step - loss: 0.0177 - accuracy: 0.9941 - val_loss: 0.0875 - val_accuracy: 0.9802 - lr: 0.0010\n",
      "Epoch 11/50\n",
      "1719/1719 [==============================] - 2s 1ms/step - loss: 0.0138 - accuracy: 0.9953 - val_loss: 0.0843 - val_accuracy: 0.9808 - lr: 9.0484e-04\n",
      "Epoch 00011: early stopping\n"
     ]
    },
    {
     "data": {
      "text/plain": [
       "<matplotlib.axes._subplots.AxesSubplot at 0x241bade7348>"
      ]
     },
     "execution_count": 32,
     "metadata": {},
     "output_type": "execute_result"
    },
    {
     "data": {
      "image/png": "[encoded data removed]",
      "text/plain": [
       "<Figure size 720x576 with 1 Axes>"
      ]
     },
     "metadata": {
      "needs_background": "light"
     },
     "output_type": "display_data"
    }
   ],
   "source": [
    "# Reference for the below model has been taken from page no 312 of the book\n",
    "# Hands-On-Machine-Learning-with-Scikit-Learn-Keras-and-Tensorflow_-Concepts-Tools-and-Techniques-to-Build-Intelligent-Systems-O’Reilly-Media-2019\n",
    "\n",
    "# Initialising a Sequential model\n",
    "model = keras.models.Sequential()\n",
    "\n",
    "# Adding a Flatten layer that converts every 28x28 matrix into a 1D array input of 784 values\n",
    "model.add(keras.layers.Flatten(input_shape=[28, 28]))\n",
    "\n",
    "# Adding a Dense layer of 300 neurons with relu as the activation function\n",
    "model.add(keras.layers.Dense(300,  activation=\"relu\"))\n",
    "\n",
    "# Adding a second Dense layer of 100 neurons with relu as the activation function\n",
    "model.add(keras.layers.Dense(100, activation=\"relu\"))\n",
    "\n",
    "# Adding the output layer containing 10 neurons, one for each class label between 0-9 with softmax as the activation function\n",
    "model.add(keras.layers.Dense(10, activation=\"sigmoid\"))\n",
    "\n",
    "\n",
    "# Defining a function for exponential decay of the learning rate\n",
    "def exponential_decay_fn(epoch, lr):\n",
    "    if epoch < 10:\n",
    "        return lr\n",
    "    else:\n",
    "        return lr * np.math.exp(-0.1)\n",
    "\n",
    "\n",
    "# Defining an early stopping instance with the validation loss as the value to be monitored and a patience level of three\n",
    "early_stopping = keras.callbacks.EarlyStopping(monitor='val_loss', patience=3, verbose=1, mode=\"auto\")\n",
    "\n",
    "# Creating a model checkpoint\n",
    "checkpoint = keras.callbacks.ModelCheckpoint(\"best_classifier.h5\", save_best_only=True)\n",
    "\n",
    "\n",
    "# Compiling the model. Choosing Adam as the optimiser since it gives the best accuracy\n",
    "model.compile(optimizer=keras.optimizers.Adam(), \n",
    "              loss='sparse_categorical_crossentropy',\n",
    "              metrics=['accuracy'])\n",
    "\n",
    "# Fitting the model on the data\n",
    "history_all_callbacks = model.fit(X_train, y_train, epochs=50, validation_data=(X_val, y_val), callbacks=[early_stopping, checkpoint, keras.callbacks.LearningRateScheduler(exponential_decay_fn)])\n",
    "\n",
    "# Plotting the loss, accuracy, validation loss, validation accuracy\n",
    "pd.DataFrame(history_all_callbacks.history).plot(figsize=(10, 8))"
   ]
  },
  {
   "cell_type": "markdown",
   "metadata": {},
   "source": [
    "The above training got stopped after 11 epochs itself and we have got an accuracy of 0.9808 on the validation data"
   ]
  },
  {
   "cell_type": "markdown",
   "metadata": {},
   "source": [
    "## Step 11 - report accuracy"
   ]
  },
  {
   "cell_type": "code",
   "execution_count": 33,
   "metadata": {},
   "outputs": [
    {
     "name": "stdout",
     "output_type": "stream",
     "text": [
      "313/313 [==============================] - 0s 937us/step - loss: 0.2817 - accuracy: 0.9069\n"
     ]
    },
    {
     "data": {
      "text/plain": [
       "[0.2817228138446808, 0.9068999886512756]"
      ]
     },
     "execution_count": 33,
     "metadata": {},
     "output_type": "execute_result"
    }
   ],
   "source": [
    "# Loading the saved model\n",
    "best_model = keras.models.load_model(\"best_classifier.h5\")\n",
    "\n",
    "# Calculating the accuracy on the test data\n",
    "best_model.evaluate(X_test, y_test)"
   ]
  },
  {
   "cell_type": "markdown",
   "metadata": {},
   "source": [
    "The adam optimiser model is giving an accuracy of 90% on the test data. "
   ]
  },
  {
   "cell_type": "markdown",
   "metadata": {},
   "source": [
    "## Done"
   ]
  }
 ],
 "metadata": {
  "kernelspec": {
   "display_name": "Python 3",
   "language": "python",
   "name": "python3"
  },
  "language_info": {
   "codemirror_mode": {
    "name": "ipython",
    "version": 3
   },
   "file_extension": ".py",
   "mimetype": "text/x-python",
   "name": "python",
   "nbconvert_exporter": "python",
   "pygments_lexer": "ipython3",
   "version": "3.7.4"
  }
 },
 "nbformat": 4,
 "nbformat_minor": 2
}
